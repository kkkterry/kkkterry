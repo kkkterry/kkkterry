{
 "cells": [
  {
   "cell_type": "markdown",
   "id": "8afde019",
   "metadata": {},
   "source": [
    "<b><font size=\"6\" color=\"red\">ch07_객체지향프로그래밍</font></b>"
   ]
  },
  {
   "cell_type": "markdown",
   "id": "b7a5ebbe",
   "metadata": {},
   "source": [
    "# 1절. 객체와 클래스\n",
    "```\n",
    "class 클래스명(상속받을 클래스명):\n",
    "    변수나 함수들을 선언\n",
    "```"
   ]
  },
  {
   "cell_type": "code",
   "execution_count": 1,
   "id": "e850441e",
   "metadata": {
    "ExecuteTime": {
     "end_time": "2021-07-23T06:40:33.683843Z",
     "start_time": "2021-07-23T06:40:33.668883Z"
    }
   },
   "outputs": [],
   "source": [
    "class Person:\n",
    "    \"\"\"\n",
    "    Person 클래스 어쩌구저쩌구\n",
    "    여러줄 설명하는 docstring\n",
    "    \"\"\"\n",
    "    pass\n",
    "'''\n",
    "class Person{\n",
    "    private name\n",
    "\n",
    "}\n",
    "'''\n",
    "# Person p1 = new Person()\n",
    "p1 = Person()\n"
   ]
  },
  {
   "cell_type": "code",
   "execution_count": 2,
   "id": "e5a8400d",
   "metadata": {
    "ExecuteTime": {
     "end_time": "2021-07-23T06:40:45.444859Z",
     "start_time": "2021-07-23T06:40:45.425880Z"
    }
   },
   "outputs": [
    {
     "data": {
      "text/plain": [
       "__main__.Person"
      ]
     },
     "execution_count": 2,
     "metadata": {},
     "output_type": "execute_result"
    }
   ],
   "source": [
    "type(p1) ## __main__ : 이 스크립트 이름??"
   ]
  },
  {
   "cell_type": "code",
   "execution_count": 3,
   "id": "9cb4e149",
   "metadata": {
    "ExecuteTime": {
     "end_time": "2021-07-23T06:40:55.074053Z",
     "start_time": "2021-07-23T06:40:55.057072Z"
    }
   },
   "outputs": [
    {
     "name": "stdout",
     "output_type": "stream",
     "text": [
      "<__main__.Person object at 0x000002ACF6DC5A30>\n"
     ]
    }
   ],
   "source": [
    "print(p1)"
   ]
  },
  {
   "cell_type": "code",
   "execution_count": 5,
   "id": "e76bf8ff",
   "metadata": {
    "ExecuteTime": {
     "end_time": "2021-07-23T06:43:33.532763Z",
     "start_time": "2021-07-23T06:43:33.519762Z"
    }
   },
   "outputs": [
    {
     "data": {
      "text/plain": [
       "True"
      ]
     },
     "execution_count": 5,
     "metadata": {},
     "output_type": "execute_result"
    }
   ],
   "source": [
    "isinstance(p1, Person)"
   ]
  },
  {
   "cell_type": "code",
   "execution_count": 6,
   "id": "cdfe6b41",
   "metadata": {
    "ExecuteTime": {
     "end_time": "2021-07-23T06:44:02.369235Z",
     "start_time": "2021-07-23T06:44:02.356237Z"
    }
   },
   "outputs": [
    {
     "name": "stdout",
     "output_type": "stream",
     "text": [
      "\n",
      "    Person 클래스 어쩌구저쩌구\n",
      "    여러줄 설명하는 docstring\n",
      "    \n"
     ]
    }
   ],
   "source": [
    "print(p1.__doc__) # 독스트링"
   ]
  },
  {
   "cell_type": "markdown",
   "id": "55bd5523",
   "metadata": {},
   "source": [
    "# 2절. 변수와 메소드"
   ]
  },
  {
   "cell_type": "code",
   "execution_count": 5,
   "id": "158681f9",
   "metadata": {
    "ExecuteTime": {
     "end_time": "2021-07-23T09:19:04.558975Z",
     "start_time": "2021-07-23T09:19:04.550994Z"
    }
   },
   "outputs": [
    {
     "name": "stdout",
     "output_type": "stream",
     "text": [
      "홍길동 남자\n"
     ]
    }
   ],
   "source": [
    "# 변수 추가\n",
    "class Person:\n",
    "    name = \"홍길동\" # 파이썬에서는 변수할당이 안되면 변수 선언이 안된다.\n",
    "    gender = \"남자\"\n",
    "\n",
    "p1 = Person()\n",
    "print(p1.name, p1.gender)"
   ]
  },
  {
   "cell_type": "code",
   "execution_count": 6,
   "id": "9887f576",
   "metadata": {
    "ExecuteTime": {
     "end_time": "2021-07-23T09:19:07.708252Z",
     "start_time": "2021-07-23T09:19:07.690300Z"
    }
   },
   "outputs": [
    {
     "name": "stdout",
     "output_type": "stream",
     "text": [
      "클래스 영역변수 :  홍길동 남자\n",
      "p1 객체의 변수 : 홍길동 남자\n",
      "p2 객체의 변수 : 이순신 남자\n"
     ]
    }
   ],
   "source": [
    "p2 = Person()\n",
    "p2.name = \"이순신\"\n",
    "print(\"클래스 영역변수 : \", Person.name, Person.gender)\n",
    "print(\"p1 객체의 변수 :\",p1.name, p1.gender)\n",
    "print(\"p2 객체의 변수 :\",p2.name, p2.gender)"
   ]
  },
  {
   "cell_type": "code",
   "execution_count": 7,
   "id": "0e1cb09f",
   "metadata": {
    "ExecuteTime": {
     "end_time": "2021-07-23T09:19:29.466319Z",
     "start_time": "2021-07-23T09:19:29.459822Z"
    }
   },
   "outputs": [
    {
     "name": "stdout",
     "output_type": "stream",
     "text": [
      "클래스 영역변수 :  리사 여자\n",
      "p1 객체의 변수 : 리사 여자\n",
      "p2 객체의 변수 : 이순신 여자\n"
     ]
    }
   ],
   "source": [
    "Person.name = \"리사\"\n",
    "Person.gender = \"여자\"\n",
    "print(\"클래스 영역변수 : \", Person.name, Person.gender)\n",
    "print(\"p1 객체의 변수 :\",p1.name, p1.gender)\n",
    "print(\"p2 객체의 변수 :\",p2.name, p2.gender)"
   ]
  },
  {
   "cell_type": "code",
   "execution_count": 1,
   "id": "80daefab",
   "metadata": {
    "ExecuteTime": {
     "end_time": "2021-07-24T06:27:57.305726Z",
     "start_time": "2021-07-24T06:27:57.295784Z"
    }
   },
   "outputs": [],
   "source": [
    "# 메소드 추가\n",
    "class Person:\n",
    "    name = \"홍길동\"\n",
    "    gender = \"남자\"\n",
    "    def print_info():\n",
    "        print(\"Person 메소드\")\n",
    "        print(\"{}은 {}입니다.\".format(Person.name, Person.gender))"
   ]
  },
  {
   "cell_type": "code",
   "execution_count": 13,
   "id": "ad36ebde",
   "metadata": {
    "ExecuteTime": {
     "end_time": "2021-07-23T07:02:45.307839Z",
     "start_time": "2021-07-23T07:02:45.300821Z"
    }
   },
   "outputs": [
    {
     "name": "stdout",
     "output_type": "stream",
     "text": [
      "홍길동 남자\n",
      "Person 메소드\n",
      "홍길동은 남자입니다.\n"
     ]
    }
   ],
   "source": [
    "print(Person.name, Person.gender)\n",
    "Person.print_info()"
   ]
  },
  {
   "cell_type": "code",
   "execution_count": 4,
   "id": "ead0fcbe",
   "metadata": {
    "ExecuteTime": {
     "end_time": "2021-07-24T06:29:44.671168Z",
     "start_time": "2021-07-24T06:29:44.654214Z"
    }
   },
   "outputs": [
    {
     "name": "stdout",
     "output_type": "stream",
     "text": [
      "유관순 여자\n"
     ]
    },
    {
     "ename": "TypeError",
     "evalue": "print_info() takes 0 positional arguments but 1 was given",
     "output_type": "error",
     "traceback": [
      "\u001b[1;31m---------------------------------------------------------------------------\u001b[0m",
      "\u001b[1;31mTypeError\u001b[0m                                 Traceback (most recent call last)",
      "\u001b[1;32m<ipython-input-4-9e9ec70e1acc>\u001b[0m in \u001b[0;36m<module>\u001b[1;34m\u001b[0m\n\u001b[0;32m      3\u001b[0m \u001b[0mp1\u001b[0m\u001b[1;33m.\u001b[0m\u001b[0mgender\u001b[0m \u001b[1;33m=\u001b[0m \u001b[1;34m\"여자\"\u001b[0m\u001b[1;33m\u001b[0m\u001b[1;33m\u001b[0m\u001b[0m\n\u001b[0;32m      4\u001b[0m \u001b[0mprint\u001b[0m\u001b[1;33m(\u001b[0m\u001b[0mp1\u001b[0m\u001b[1;33m.\u001b[0m\u001b[0mname\u001b[0m\u001b[1;33m,\u001b[0m \u001b[0mp1\u001b[0m\u001b[1;33m.\u001b[0m\u001b[0mgender\u001b[0m\u001b[1;33m)\u001b[0m\u001b[1;33m\u001b[0m\u001b[1;33m\u001b[0m\u001b[0m\n\u001b[1;32m----> 5\u001b[1;33m \u001b[0mp1\u001b[0m\u001b[1;33m.\u001b[0m\u001b[0mprint_info\u001b[0m\u001b[1;33m(\u001b[0m\u001b[1;33m)\u001b[0m\u001b[1;33m\u001b[0m\u001b[1;33m\u001b[0m\u001b[0m\n\u001b[0m\u001b[0;32m      6\u001b[0m \u001b[1;31m# TypeError: print_info() takes 0 positional arguments but 1 was given\u001b[0m\u001b[1;33m\u001b[0m\u001b[1;33m\u001b[0m\u001b[1;33m\u001b[0m\u001b[0m\n\u001b[0;32m      7\u001b[0m \u001b[1;31m# p1.print_info() 수행시 변수가 없더라도 self라는 변수가 들어간다\u001b[0m\u001b[1;33m\u001b[0m\u001b[1;33m\u001b[0m\u001b[1;33m\u001b[0m\u001b[0m\n",
      "\u001b[1;31mTypeError\u001b[0m: print_info() takes 0 positional arguments but 1 was given"
     ]
    }
   ],
   "source": [
    "p1 = Person()\n",
    "p1.name = \"유관순\"\n",
    "p1.gender = \"여자\"\n",
    "print(p1.name, p1.gender)\n",
    "p1.print_info()\n",
    "# TypeError: print_info() takes 0 positional arguments but 1 was given\n",
    "# p1.print_info() 수행시 변수가 없더라도 self라는 변수가 들어간다\n",
    "# 그래서 함수에서 변수 받는게 없는데 1개가 들어왔네 라는 오류가 뜸\n",
    "\n",
    "#파이썬에서 클래스 객체를 생성할 때 만들어진 객체가\n",
    "#메서드를 호출 할 때 객체 자기 자신이 인자로 들어가기 때문입니다.\n",
    "#출처: https://korbillgates.tistory.com/103 [생물정보학자의 블로그]\n",
    "# 고로 위에 객선선언부분에 def print_info(self):로 해줘야 한다."
   ]
  },
  {
   "cell_type": "code",
   "execution_count": 19,
   "id": "de60c42c",
   "metadata": {
    "ExecuteTime": {
     "end_time": "2021-07-23T07:13:03.389938Z",
     "start_time": "2021-07-23T07:13:03.380962Z"
    }
   },
   "outputs": [
    {
     "name": "stdout",
     "output_type": "stream",
     "text": [
      "홍길동 남자 30\n",
      "리사는 30살이고 남자입니다.\n",
      "리사는 30살이고 남자입니다.\n"
     ]
    }
   ],
   "source": [
    "# 인스턴스 메소드(객체가 호출할 수 있는 함수)\n",
    "class Person:\n",
    "    name = \"홍길동\"\n",
    "    gender = \"남자\"\n",
    "    age = 30\n",
    "    # 인스턴스 메소드\n",
    "    # self : 인스턴스 메소드임을 표시\n",
    "    def print_info(self):\n",
    "        print(\"{}는 {}살이고 {}입니다.\".format(self.name, self.age,self.gender))\n",
    "print(Person.name, Person.gender, Person.age)\n",
    "p1 = Person()\n",
    "p1.name = \"리사\"\n",
    "p1.print_info()\n",
    "Person.print_info(p1)  #이렇게는 안쓴다"
   ]
  },
  {
   "cell_type": "code",
   "execution_count": 17,
   "id": "06de0eea",
   "metadata": {
    "ExecuteTime": {
     "end_time": "2021-07-23T07:10:57.064952Z",
     "start_time": "2021-07-23T07:10:57.053948Z"
    }
   },
   "outputs": [
    {
     "ename": "TypeError",
     "evalue": "print_info() missing 1 required positional argument: 'self'",
     "output_type": "error",
     "traceback": [
      "\u001b[1;31m---------------------------------------------------------------------------\u001b[0m",
      "\u001b[1;31mTypeError\u001b[0m                                 Traceback (most recent call last)",
      "\u001b[1;32m<ipython-input-17-5d08db0c8414>\u001b[0m in \u001b[0;36m<module>\u001b[1;34m\u001b[0m\n\u001b[1;32m----> 1\u001b[1;33m \u001b[0mPerson\u001b[0m\u001b[1;33m.\u001b[0m\u001b[0mprint_info\u001b[0m\u001b[1;33m(\u001b[0m\u001b[1;33m)\u001b[0m\u001b[1;33m\u001b[0m\u001b[1;33m\u001b[0m\u001b[0m\n\u001b[0m",
      "\u001b[1;31mTypeError\u001b[0m: print_info() missing 1 required positional argument: 'self'"
     ]
    }
   ],
   "source": [
    "Person.print_info()"
   ]
  },
  {
   "cell_type": "code",
   "execution_count": 21,
   "id": "54b8d726",
   "metadata": {
    "ExecuteTime": {
     "end_time": "2021-07-23T07:15:43.560722Z",
     "start_time": "2021-07-23T07:15:43.556733Z"
    }
   },
   "outputs": [],
   "source": [
    "p1.address = '서울시'\n",
    "p1.nickname = '곰돌이 푸'\n",
    "#변수 생성"
   ]
  },
  {
   "cell_type": "code",
   "execution_count": 23,
   "id": "ec2966a9",
   "metadata": {
    "ExecuteTime": {
     "end_time": "2021-07-23T07:16:05.911962Z",
     "start_time": "2021-07-23T07:16:05.905977Z"
    }
   },
   "outputs": [
    {
     "name": "stdout",
     "output_type": "stream",
     "text": [
      "리사 곰돌이 푸 서울시\n"
     ]
    }
   ],
   "source": [
    "print(p1.name, p1.nickname, p1.address)"
   ]
  },
  {
   "cell_type": "code",
   "execution_count": 24,
   "id": "4bf9dd55",
   "metadata": {
    "ExecuteTime": {
     "end_time": "2021-07-23T07:16:23.046793Z",
     "start_time": "2021-07-23T07:16:23.035822Z"
    }
   },
   "outputs": [
    {
     "name": "stdout",
     "output_type": "stream",
     "text": [
      "리사는 30살이고 남자입니다.\n"
     ]
    }
   ],
   "source": [
    "p1.print_info()"
   ]
  },
  {
   "cell_type": "markdown",
   "id": "43aa80a3",
   "metadata": {},
   "source": [
    "### 인스턴스 메소드 & 클래스 메소드 & static 메소드\n",
    "1. 인스턴스 메소드 : 첫번째 인자에 self를 꼭 삽입. 객체를 통해서만 호출할 메소드\n",
    "2. 클래스메소드 : @classmethod를 통해 선언한 메소드. 첫번째 인자에 cls(clazz)를 꼭 삽입\n",
    "3. static 메소드 : @staticmethod를 통해 선언한 메소드. 인자를 넣지 않는다."
   ]
  },
  {
   "cell_type": "code",
   "execution_count": 1,
   "id": "137fbb99",
   "metadata": {
    "ExecuteTime": {
     "end_time": "2021-07-23T07:40:46.447377Z",
     "start_time": "2021-07-23T07:40:46.438400Z"
    }
   },
   "outputs": [],
   "source": [
    "class Person:\n",
    "    name = \"홍길동\"\n",
    "    gender =\"남자\"\n",
    "    def print_info(self):\n",
    "        print(\"일반(인스턴스=객체)메소드 - {}는 {}입니다.\".format(self.name, self.gender))\n",
    "    \n",
    "    @classmethod\n",
    "    def do_(cls):\n",
    "        cls.name = \"신사임당\"\n",
    "        cls.gender = \"여자\"\n",
    "        print(\"클래스 메소드 - {}는 {}입니다.\".format(cls.name, cls.gender))\n",
    "        \n",
    "    @staticmethod\n",
    "    def that_():\n",
    "        print(\"static 메소드 - {}sms {}입니다.\".format(Person.name, Person.gender))"
   ]
  },
  {
   "cell_type": "code",
   "execution_count": 2,
   "id": "f77c8aa6",
   "metadata": {
    "ExecuteTime": {
     "end_time": "2021-07-23T07:40:48.973658Z",
     "start_time": "2021-07-23T07:40:48.965065Z"
    }
   },
   "outputs": [
    {
     "name": "stdout",
     "output_type": "stream",
     "text": [
      "일반(인스턴스=객체)메소드 - 홍길동는 남자입니다.\n",
      "static 메소드 - 홍길동sms 남자입니다.\n",
      "클래스 메소드 - 신사임당는 여자입니다.\n"
     ]
    }
   ],
   "source": [
    "p1 = Person()\n",
    "p1.print_info()\n",
    "Person.that_()\n",
    "Person.do_()"
   ]
  },
  {
   "cell_type": "code",
   "execution_count": 3,
   "id": "8ab55ed9",
   "metadata": {
    "ExecuteTime": {
     "end_time": "2021-07-23T07:42:03.347389Z",
     "start_time": "2021-07-23T07:42:03.332920Z"
    }
   },
   "outputs": [
    {
     "name": "stdout",
     "output_type": "stream",
     "text": [
      "일반(인스턴스=객체)메소드 - 이순신는 여자입니다.\n",
      "static 메소드 - 신사임당sms 여자입니다.\n",
      "클래스 메소드 - 신사임당는 여자입니다.\n"
     ]
    }
   ],
   "source": [
    "p1.name = \"이순신\"\n",
    "p1.print_info()\n",
    "Person.that_()\n",
    "Person.do_()"
   ]
  },
  {
   "cell_type": "code",
   "execution_count": 4,
   "id": "eb5f171b",
   "metadata": {
    "ExecuteTime": {
     "end_time": "2021-07-23T07:42:23.753406Z",
     "start_time": "2021-07-23T07:42:23.747422Z"
    }
   },
   "outputs": [
    {
     "name": "stdout",
     "output_type": "stream",
     "text": [
      "일반(인스턴스=객체)메소드 - 신사임당는 여자입니다.\n"
     ]
    }
   ],
   "source": [
    "p2 = Person()\n",
    "p2.print_info()"
   ]
  },
  {
   "cell_type": "code",
   "execution_count": 5,
   "id": "35da7d88",
   "metadata": {
    "ExecuteTime": {
     "end_time": "2021-07-23T07:42:35.610246Z",
     "start_time": "2021-07-23T07:42:35.605255Z"
    }
   },
   "outputs": [],
   "source": [
    "p2.age = 30"
   ]
  },
  {
   "cell_type": "markdown",
   "id": "5c35cd0d",
   "metadata": {},
   "source": [
    "# 3절. 생성자 함수(__init__())와 소멸자(__del__())\\\n",
    "- 생성자 : __init__(self, 매개변수,...) 객체가 생성될때 자동 실행된다.\n",
    "           생성시 필요한 코드(객체변수 초기화)를 포함\n",
    "- 소멸자 : __del__(self) 객체가 소멸될때 자동 실행\n",
    "           소멸시 필요한 코드를 포함\n",
    "           인스턴스 객체의 레퍼런스 카운트가 0 이 될때 실행"
   ]
  },
  {
   "cell_type": "code",
   "execution_count": 13,
   "id": "9f58e2e6",
   "metadata": {
    "ExecuteTime": {
     "end_time": "2021-07-23T07:58:32.157962Z",
     "start_time": "2021-07-23T07:58:32.140680Z"
    }
   },
   "outputs": [],
   "source": [
    "class Person:\n",
    "    def __init__(self, name, gender):\n",
    "        self.name = name\n",
    "        self.gender = gender\n",
    "        print(\"Person 객체를 생성합니다.\")\n",
    "    \n",
    "    def __del__(self):\n",
    "        print(\"Person 객체가 소멸됩니다.\")\n",
    "    \n",
    "    def print_info(self):\n",
    "        print(\"{}는 {}입니다.\".format(self.name, self.gender))\n",
    "        \n",
    "    def __str__(self):\n",
    "        return \"{}는 {}이죠\".format(self.name, self.gender)\n",
    "        "
   ]
  },
  {
   "cell_type": "code",
   "execution_count": 16,
   "id": "91428eac",
   "metadata": {
    "ExecuteTime": {
     "end_time": "2021-07-23T07:59:51.013808Z",
     "start_time": "2021-07-23T07:59:51.007824Z"
    }
   },
   "outputs": [
    {
     "name": "stdout",
     "output_type": "stream",
     "text": [
      "Person 객체를 생성합니다.\n",
      "Person 객체가 소멸됩니다.\n",
      "Person 객체를 생성합니다.\n"
     ]
    }
   ],
   "source": [
    "p1 = Person(\"신사임당\",\"여자\")\n",
    "p2 = Person(\"홍길동\", \"남자\")"
   ]
  },
  {
   "cell_type": "code",
   "execution_count": 17,
   "id": "dd81990d",
   "metadata": {
    "ExecuteTime": {
     "end_time": "2021-07-23T08:00:14.308821Z",
     "start_time": "2021-07-23T08:00:14.300455Z"
    }
   },
   "outputs": [
    {
     "name": "stdout",
     "output_type": "stream",
     "text": [
      "신사임당는 여자이죠\n",
      "신사임당는 여자입니다.\n",
      "홍길동는 남자이죠\n"
     ]
    }
   ],
   "source": [
    "print(p1)\n",
    "p1.print_info()\n",
    "print(p2)"
   ]
  },
  {
   "cell_type": "code",
   "execution_count": 18,
   "id": "6c63b681",
   "metadata": {
    "ExecuteTime": {
     "end_time": "2021-07-23T08:00:34.814708Z",
     "start_time": "2021-07-23T08:00:34.799241Z"
    }
   },
   "outputs": [
    {
     "data": {
      "text/plain": [
       "(__main__.Person, True)"
      ]
     },
     "execution_count": 18,
     "metadata": {},
     "output_type": "execute_result"
    }
   ],
   "source": [
    "type(p1), isinstance(p1,Person)"
   ]
  },
  {
   "cell_type": "code",
   "execution_count": 19,
   "id": "7048202a",
   "metadata": {
    "ExecuteTime": {
     "end_time": "2021-07-23T08:00:43.183547Z",
     "start_time": "2021-07-23T08:00:43.173547Z"
    }
   },
   "outputs": [
    {
     "name": "stdout",
     "output_type": "stream",
     "text": [
      "Person 객체가 소멸됩니다.\n"
     ]
    }
   ],
   "source": [
    "del p1"
   ]
  },
  {
   "cell_type": "code",
   "execution_count": 20,
   "id": "e018d82e",
   "metadata": {
    "ExecuteTime": {
     "end_time": "2021-07-23T08:01:43.546018Z",
     "start_time": "2021-07-23T08:01:43.531058Z"
    }
   },
   "outputs": [],
   "source": [
    "p3 = p2"
   ]
  },
  {
   "cell_type": "code",
   "execution_count": 21,
   "id": "3eaa16d0",
   "metadata": {
    "ExecuteTime": {
     "end_time": "2021-07-23T08:01:59.078388Z",
     "start_time": "2021-07-23T08:01:59.070436Z"
    }
   },
   "outputs": [],
   "source": [
    "del p2  #래퍼런스 카운트가  0이 되지 않아 안지워짐"
   ]
  },
  {
   "cell_type": "code",
   "execution_count": 22,
   "id": "81087da4",
   "metadata": {
    "ExecuteTime": {
     "end_time": "2021-07-23T08:02:23.543714Z",
     "start_time": "2021-07-23T08:02:23.531712Z"
    }
   },
   "outputs": [
    {
     "name": "stdout",
     "output_type": "stream",
     "text": [
      "Person 객체가 소멸됩니다.\n"
     ]
    }
   ],
   "source": [
    "del p3"
   ]
  },
  {
   "cell_type": "markdown",
   "id": "48c88659",
   "metadata": {},
   "source": [
    "**★ 생성자를 통한 멤버 변수의 초기화 ★** <br>\n",
    "**★ 파이썬은 함수를 중복 정의(오버로딩) 불가 ★** <br>\n",
    "**★ 생성자 함수도 중복정의(오버로딩) 불가 ★** <br>"
   ]
  },
  {
   "cell_type": "code",
   "execution_count": 1,
   "id": "9c598677",
   "metadata": {
    "ExecuteTime": {
     "end_time": "2021-07-23T08:33:21.000924Z",
     "start_time": "2021-07-23T08:33:20.990951Z"
    }
   },
   "outputs": [],
   "source": [
    "class Person:\n",
    "#     def __init__(self): #매개변수 없이 호출될 생성자\n",
    "#         self.name = \"홍길동\"\n",
    "#         self.gender = \"남자\"\n",
    "        \n",
    "#     def __init__(self, name):  #매개변수 1개로 호출될 생성자\n",
    "#         self.name = name\n",
    "#         self.gender = \"남자\"\n",
    "    \n",
    "    def __init__(self, name=\"신길동\", gender=\"남자\"):  #매개변수 2개로 호출될 생성자\n",
    "        self.name = name\n",
    "        self.gender = gender\n",
    "        print(\"Person 객체 생성합니다.\")\n",
    "    \n",
    "    def __del__(self):\n",
    "        print(\"Person 객체 소멸시킵니다.\")\n",
    "    \n",
    "    def __str__(self):\n",
    "        return \"%s는 %s 입니다.\" % (self.name, self.gender)"
   ]
  },
  {
   "cell_type": "code",
   "execution_count": 2,
   "id": "636ebaf7",
   "metadata": {
    "ExecuteTime": {
     "end_time": "2021-07-23T08:33:21.979844Z",
     "start_time": "2021-07-23T08:33:21.962858Z"
    }
   },
   "outputs": [
    {
     "name": "stdout",
     "output_type": "stream",
     "text": [
      "Person 객체 생성합니다.\n",
      "Person 객체 생성합니다.\n",
      "Person 객체 생성합니다.\n"
     ]
    }
   ],
   "source": [
    "p1 = Person(\"홍길동\", \"남자\")\n",
    "p2 = Person(\"박길동\")\n",
    "p3 = Person()"
   ]
  },
  {
   "cell_type": "code",
   "execution_count": 4,
   "id": "3b3c40b1",
   "metadata": {
    "ExecuteTime": {
     "end_time": "2021-07-23T08:34:19.500955Z",
     "start_time": "2021-07-23T08:34:19.491945Z"
    }
   },
   "outputs": [
    {
     "name": "stdout",
     "output_type": "stream",
     "text": [
      "p1= 홍길동는 남자 입니다.\n",
      "p2= 홍길동는 남자 입니다.\n",
      "p3= 홍길동는 남자 입니다.\n"
     ]
    }
   ],
   "source": [
    "print(\"p1=\",p1)\n",
    "print(\"p2=\",p1)\n",
    "print(\"p3=\",p1)"
   ]
  },
  {
   "cell_type": "markdown",
   "id": "804953d6",
   "metadata": {},
   "source": [
    "# 4절. 상속과 재정의"
   ]
  },
  {
   "cell_type": "code",
   "execution_count": 5,
   "id": "815c61d4",
   "metadata": {
    "ExecuteTime": {
     "end_time": "2021-07-23T08:42:56.952539Z",
     "start_time": "2021-07-23T08:42:56.935198Z"
    }
   },
   "outputs": [],
   "source": [
    "class Person:\n",
    "    'Person은 이름과 성별 멤버변수가 있고 어쩌구 저쩌구...'\n",
    "    def __init__(self, name, gender):\n",
    "        print(\"Person 객체 생성합니다\")\n",
    "        self.name = name\n",
    "        self.gender = gender\n",
    "    \n",
    "    def __del__(self):\n",
    "        print(\"Person 객체 소멸시킵니다.\")\n",
    "        \n",
    "    def print_info(self):\n",
    "        '객체의 이름과 성별을 출력합니다.'\n",
    "        print(\"{}님은 {}.\".format(self.name, self.gender))\n",
    "    \n",
    "    def __str__(self):\n",
    "        return \"{}님은 {}\".format(self.name, self.gender)\n",
    "    \n",
    "    "
   ]
  },
  {
   "cell_type": "code",
   "execution_count": 6,
   "id": "3cdebf69",
   "metadata": {
    "ExecuteTime": {
     "end_time": "2021-07-23T08:48:33.099542Z",
     "start_time": "2021-07-23T08:48:33.084325Z"
    }
   },
   "outputs": [],
   "source": [
    "class Student(Person):\n",
    "    'name과 gender에 major변수를 갖는 student타입'\n",
    "    def __init__(self, name, gender, major): #함수 오버라이딩\n",
    "        self.name = name\n",
    "        self.gender = gender\n",
    "        self.major = major\n",
    "    def __del__(self):\n",
    "        pass\n",
    "    def print_info(self):\n",
    "        print(\"{}님의 전공 {}이고 {}입니다.\".format(self.name, self.major, self.gender))\n",
    "        \n",
    "    def __str__(self):\n",
    "        return \"{}님의 전공 {}이고 {}입니다.\".format(self.name, self.major, self.gedner)"
   ]
  },
  {
   "cell_type": "code",
   "execution_count": 8,
   "id": "f51fc3d0",
   "metadata": {
    "ExecuteTime": {
     "end_time": "2021-07-23T08:49:32.479962Z",
     "start_time": "2021-07-23T08:49:32.466997Z"
    }
   },
   "outputs": [
    {
     "name": "stdout",
     "output_type": "stream",
     "text": [
      "Person 객체 생성합니다\n",
      "Person 객체 소멸시킵니다.\n",
      "홍길동님은 남자\n",
      "True\n"
     ]
    }
   ],
   "source": [
    "p1 = Person(\"홍길동\", \"남자\")\n",
    "print(p1)\n",
    "print(isinstance(p1,Person))"
   ]
  },
  {
   "cell_type": "code",
   "execution_count": 3,
   "id": "85e3bd67",
   "metadata": {
    "ExecuteTime": {
     "end_time": "2021-07-23T08:59:15.430549Z",
     "start_time": "2021-07-23T08:59:15.413594Z"
    }
   },
   "outputs": [
    {
     "name": "stdout",
     "output_type": "stream",
     "text": [
      "Person 객체 생성합니다\n",
      "홍길순님은 여자그리고 전공은 빅데이터입니다.\n"
     ]
    }
   ],
   "source": [
    "s1 = Student(\"홍길순\", \"여자\", \"빅데이터\")\n",
    "print(s1)"
   ]
  },
  {
   "cell_type": "code",
   "execution_count": 11,
   "id": "2a00bf96",
   "metadata": {
    "ExecuteTime": {
     "end_time": "2021-07-23T08:53:09.457405Z",
     "start_time": "2021-07-23T08:53:09.450428Z"
    }
   },
   "outputs": [
    {
     "data": {
      "text/plain": [
       "True"
      ]
     },
     "execution_count": 11,
     "metadata": {},
     "output_type": "execute_result"
    }
   ],
   "source": [
    "issubclass(Student, Person)"
   ]
  },
  {
   "cell_type": "code",
   "execution_count": 12,
   "id": "42fe66b9",
   "metadata": {
    "ExecuteTime": {
     "end_time": "2021-07-23T08:53:10.264918Z",
     "start_time": "2021-07-23T08:53:10.255879Z"
    }
   },
   "outputs": [
    {
     "data": {
      "text/plain": [
       "True"
      ]
     },
     "execution_count": 12,
     "metadata": {},
     "output_type": "execute_result"
    }
   ],
   "source": [
    "isinstance(s1,Student)"
   ]
  },
  {
   "cell_type": "code",
   "execution_count": 13,
   "id": "5c89f289",
   "metadata": {
    "ExecuteTime": {
     "end_time": "2021-07-23T08:53:11.149564Z",
     "start_time": "2021-07-23T08:53:11.134599Z"
    }
   },
   "outputs": [
    {
     "data": {
      "text/plain": [
       "True"
      ]
     },
     "execution_count": 13,
     "metadata": {},
     "output_type": "execute_result"
    }
   ],
   "source": [
    "isinstance(s1,Person)"
   ]
  },
  {
   "cell_type": "markdown",
   "id": "f1e54249",
   "metadata": {},
   "source": [
    "### super()이용"
   ]
  },
  {
   "cell_type": "code",
   "execution_count": 1,
   "id": "3b3f2db2",
   "metadata": {
    "ExecuteTime": {
     "end_time": "2021-07-23T08:59:11.083149Z",
     "start_time": "2021-07-23T08:59:11.074140Z"
    }
   },
   "outputs": [],
   "source": [
    "class Person:\n",
    "    'Person은 이름과 성별 멤버변수가 있고 어쩌구 저쩌구...'\n",
    "    def __init__(self, name, gender):\n",
    "        print(\"Person 객체 생성합니다\")\n",
    "        self.name = name\n",
    "        self.gender = gender\n",
    "    \n",
    "    def __del__(self):\n",
    "        print(\"Person 객체 소멸시킵니다.\")\n",
    "        \n",
    "    def print_info(self):\n",
    "        '객체의 이름과 성별을 출력합니다.'\n",
    "        print(\"{}님은 {}.\".format(self.name, self.gender))\n",
    "    \n",
    "    def __str__(self):\n",
    "        return \"{}님은 {}\".format(self.name, self.gender)\n",
    "    "
   ]
  },
  {
   "cell_type": "code",
   "execution_count": 2,
   "id": "17213ad9",
   "metadata": {
    "ExecuteTime": {
     "end_time": "2021-07-23T08:59:11.935249Z",
     "start_time": "2021-07-23T08:59:11.920281Z"
    }
   },
   "outputs": [],
   "source": [
    "class Student(Person):\n",
    "    'name과 gender에 major변수를 갖는 student타입'\n",
    "    def __init__(self, name, gender, major):\n",
    "        # 부모클래스의 생성자를 호출하여 초기화\n",
    "        super().__init__(name, gender)\n",
    "        # Person.__init__(self,name, gender)\n",
    "        self.major = major\n",
    "    def __del__(self):\n",
    "        pass\n",
    "    def print_info(self):\n",
    "        super().print_info()\n",
    "        print(\"전공은 {}입니다.\".format(self.major))\n",
    "        \n",
    "    def __str__(self):\n",
    "        return Person.__str__(self) + \\\n",
    "                \"그리고 전공은 {}입니다.\".format(self.major)"
   ]
  },
  {
   "cell_type": "code",
   "execution_count": 4,
   "id": "3767809f",
   "metadata": {
    "ExecuteTime": {
     "end_time": "2021-07-23T08:59:57.099311Z",
     "start_time": "2021-07-23T08:59:57.091301Z"
    }
   },
   "outputs": [
    {
     "name": "stdout",
     "output_type": "stream",
     "text": [
      "Person 객체 생성합니다\n",
      "김철수님은 남자그리고 전공은 빅데이터입니다.\n"
     ]
    }
   ],
   "source": [
    "s1 = Student(\"김철수\", \"남자\", \"빅데이터\")\n",
    "print(s1)"
   ]
  },
  {
   "cell_type": "code",
   "execution_count": null,
   "id": "2c7aee7a",
   "metadata": {},
   "outputs": [],
   "source": []
  },
  {
   "cell_type": "code",
   "execution_count": null,
   "id": "c0f8e548",
   "metadata": {},
   "outputs": [],
   "source": []
  },
  {
   "cell_type": "code",
   "execution_count": null,
   "id": "63ce370a",
   "metadata": {},
   "outputs": [],
   "source": []
  },
  {
   "cell_type": "code",
   "execution_count": null,
   "id": "8ad06aa3",
   "metadata": {},
   "outputs": [],
   "source": []
  },
  {
   "cell_type": "code",
   "execution_count": null,
   "id": "2e417e44",
   "metadata": {},
   "outputs": [],
   "source": []
  }
 ],
 "metadata": {
  "kernelspec": {
   "display_name": "Python 3",
   "language": "python",
   "name": "python3"
  },
  "language_info": {
   "codemirror_mode": {
    "name": "ipython",
    "version": 3
   },
   "file_extension": ".py",
   "mimetype": "text/x-python",
   "name": "python",
   "nbconvert_exporter": "python",
   "pygments_lexer": "ipython3",
   "version": "3.8.8"
  },
  "toc": {
   "base_numbering": 1,
   "nav_menu": {},
   "number_sections": false,
   "sideBar": true,
   "skip_h1_title": false,
   "title_cell": "Table of Contents",
   "title_sidebar": "Contents",
   "toc_cell": false,
   "toc_position": {},
   "toc_section_display": true,
   "toc_window_display": true
  },
  "varInspector": {
   "cols": {
    "lenName": 16,
    "lenType": 16,
    "lenVar": 40
   },
   "kernels_config": {
    "python": {
     "delete_cmd_postfix": "",
     "delete_cmd_prefix": "del ",
     "library": "var_list.py",
     "varRefreshCmd": "print(var_dic_list())"
    },
    "r": {
     "delete_cmd_postfix": ") ",
     "delete_cmd_prefix": "rm(",
     "library": "var_list.r",
     "varRefreshCmd": "cat(var_dic_list()) "
    }
   },
   "types_to_exclude": [
    "module",
    "function",
    "builtin_function_or_method",
    "instance",
    "_Feature"
   ],
   "window_display": false
  }
 },
 "nbformat": 4,
 "nbformat_minor": 5
}
