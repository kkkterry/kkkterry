{
 "cells": [
  {
   "cell_type": "markdown",
   "id": "a7b9295d",
   "metadata": {
    "ExecuteTime": {
     "end_time": "2021-07-26T06:11:02.983433Z",
     "start_time": "2021-07-26T06:11:02.965481Z"
    }
   },
   "source": [
    "<b><font size=\"6\" color=\"red\">ch09_파일 i/o프로그래밍</font></b>"
   ]
  },
  {
   "cell_type": "markdown",
   "id": "094f73d9",
   "metadata": {},
   "source": [
    "# 1절. 파일에 데이터 저장하고 불러오기"
   ]
  },
  {
   "cell_type": "code",
   "execution_count": 3,
   "id": "20c8fc7b",
   "metadata": {
    "ExecuteTime": {
     "end_time": "2021-07-26T06:36:26.055131Z",
     "start_time": "2021-07-26T06:36:26.037179Z"
    }
   },
   "outputs": [
    {
     "name": "stdout",
     "output_type": "stream",
     "text": [
      "True\n"
     ]
    }
   ],
   "source": [
    "# w : 있는 파일을 w모드로 열면 기존의 파일에 덮어쓰기\n",
    "# a : 있는 파일을 a모드로 열면 append\n",
    "        # 없는 파일이면 새롭게 만들어서 쓰기\n",
    "f = open('data/ch09_sample.txt','w')\n",
    "print(f.writable())"
   ]
  },
  {
   "cell_type": "code",
   "execution_count": 4,
   "id": "a79f031a",
   "metadata": {
    "ExecuteTime": {
     "end_time": "2021-07-26T06:38:41.970856Z",
     "start_time": "2021-07-26T06:38:41.957934Z"
    }
   },
   "outputs": [],
   "source": [
    "f.write('Hello\\nWorld\\nPython') # 한글을 write하면 CP949로 저장(win)\n",
    "f.close()"
   ]
  },
  {
   "cell_type": "code",
   "execution_count": 5,
   "id": "a1b59401",
   "metadata": {
    "ExecuteTime": {
     "end_time": "2021-07-26T06:41:33.788864Z",
     "start_time": "2021-07-26T06:41:33.769890Z"
    }
   },
   "outputs": [
    {
     "name": "stdout",
     "output_type": "stream",
     "text": [
      "True\n"
     ]
    }
   ],
   "source": [
    "# with구문을 이용하면 파일을 열어 사용한 후 매번 닫아주는 번거로움이 없습니다.\n",
    "with open('data/ch09_sample.txt','w') as f:\n",
    "    print(f.writable())\n",
    "    f.write('python is easy. \\nPython is smart.')"
   ]
  },
  {
   "cell_type": "code",
   "execution_count": 6,
   "id": "8b060ea0",
   "metadata": {
    "ExecuteTime": {
     "end_time": "2021-07-26T06:43:21.639527Z",
     "start_time": "2021-07-26T06:43:21.618844Z"
    }
   },
   "outputs": [],
   "source": [
    "with open('data/ch09_sample.txt','a') as f:\n",
    "    print(\"프린트 함수로 파일 쓰기가 가능합니다\",file=f)"
   ]
  },
  {
   "cell_type": "code",
   "execution_count": 9,
   "id": "d8eebd97",
   "metadata": {
    "ExecuteTime": {
     "end_time": "2021-07-26T06:50:40.119698Z",
     "start_time": "2021-07-26T06:50:40.105706Z"
    }
   },
   "outputs": [],
   "source": [
    "with open('data/ch09_sample.txt','w', encoding='utf-8') as f:\n",
    "    f.write('1방법 : Hello\\nWorld\\n\\n')\n",
    "    textlist = ['Python is easy\\n','R is easy\\n','Java is smart\\n']\n",
    "    f.write('2방법 : \\n')\n",
    "    for line in textlist:\n",
    "        f.write(line)\n",
    "    f.write('3방법 :\\n')\n",
    "    f.writelines(textlist)\n",
    "    \n",
    "    \n",
    "    "
   ]
  },
  {
   "cell_type": "code",
   "execution_count": 12,
   "id": "212eb206",
   "metadata": {
    "ExecuteTime": {
     "end_time": "2021-07-26T06:54:25.942713Z",
     "start_time": "2021-07-26T06:54:25.922728Z"
    }
   },
   "outputs": [
    {
     "name": "stdout",
     "output_type": "stream",
     "text": [
      "['1방법 : Hello\\n', 'World\\n', '\\n', '2방법 : \\n', 'Python is easy\\n', 'R is easy\\n', 'Java is smart\\n', '3방법 :\\n', 'Python is easy\\n', 'R is easy\\n', 'Java is smart\\n']\n"
     ]
    }
   ],
   "source": [
    "with open('data/ch09_sample.txt','r',encoding = 'utf-8') as txtfile:\n",
    "    lines = txtfile.readlines() #한꺼번에 여러 줄을 읽어 list\n",
    "    print(lines)"
   ]
  },
  {
   "cell_type": "code",
   "execution_count": 16,
   "id": "e1f35956",
   "metadata": {
    "ExecuteTime": {
     "end_time": "2021-07-26T06:55:27.218071Z",
     "start_time": "2021-07-26T06:55:27.211089Z"
    }
   },
   "outputs": [
    {
     "name": "stdout",
     "output_type": "stream",
     "text": [
      "\n"
     ]
    }
   ],
   "source": [
    "for line in lines:\n",
    "    print(line, end='')"
   ]
  },
  {
   "cell_type": "code",
   "execution_count": 18,
   "id": "1370c4e7",
   "metadata": {
    "ExecuteTime": {
     "end_time": "2021-07-26T06:56:48.843167Z",
     "start_time": "2021-07-26T06:56:48.825193Z"
    }
   },
   "outputs": [
    {
     "name": "stdout",
     "output_type": "stream",
     "text": [
      "1방법 : Hello\n",
      "World\n",
      "\n",
      "2방법 : \n",
      "Python is easy\n",
      "R is easy\n",
      "Java is smart\n",
      "3방법 :\n",
      "Python is easy\n",
      "R is easy\n",
      "Java is smart\n"
     ]
    }
   ],
   "source": [
    "# 파일을 한줄 읽고 한줄 출력, 한줄 읽고 한줄 출력\n",
    "with open('data/ch09_sample.txt','r',encoding='utf-8') as f:\n",
    "    line = f.readline()\n",
    "    while line != '':\n",
    "        print(line, end='')\n",
    "        line = f.readline()"
   ]
  },
  {
   "cell_type": "markdown",
   "id": "7b2df851",
   "metadata": {},
   "source": [
    "# 2절. 피클을 이용한 객체 저장 및 불러오기"
   ]
  },
  {
   "cell_type": "markdown",
   "id": "4b04c842",
   "metadata": {},
   "source": [
    "## 2.1 형식이 있는 텍스트 데이터 불러오기 "
   ]
  },
  {
   "cell_type": "code",
   "execution_count": 22,
   "id": "a88e4c3f",
   "metadata": {
    "ExecuteTime": {
     "end_time": "2021-07-26T07:06:47.441939Z",
     "start_time": "2021-07-26T07:06:47.436940Z"
    }
   },
   "outputs": [
    {
     "name": "stdout",
     "output_type": "stream",
     "text": [
      "이름:홍길동, 나이:20, 메일:kildong@hong.com\t 주소:서울시 강동구\n",
      "이름:홍길순, 나이:22, 메일:kilsun@hong.com\t 주소:서울시 용산구\n"
     ]
    }
   ],
   "source": [
    "with open('data/ch09_member.txt', 'r', encoding='UTF-8') as f:\n",
    "    lines = f.readlines()\n",
    "    for line in lines:\n",
    "        data = line.strip().split(',')\n",
    "        name = data[0]\n",
    "        age = int(data[1].strip())\n",
    "        email = data[2].strip()\n",
    "        address = data[3].strip()\n",
    "        print(\"이름:{}, 나이:{}, 메일:{}\\t 주소:{}\".format(name, age, email, address))"
   ]
  },
  {
   "cell_type": "markdown",
   "id": "b956c5ae",
   "metadata": {},
   "source": [
    "## 2.2 피클링"
   ]
  },
  {
   "cell_type": "code",
   "execution_count": 23,
   "id": "9fbcae87",
   "metadata": {
    "ExecuteTime": {
     "end_time": "2021-07-26T07:11:34.526144Z",
     "start_time": "2021-07-26T07:11:34.516170Z"
    }
   },
   "outputs": [],
   "source": [
    "class Member:\n",
    "    def __init__(self, name, age, email, address):\n",
    "        self.name = name\n",
    "        self.age =age\n",
    "        self.email = email\n",
    "        self.address = address\n",
    "    \n",
    "    def __str__(self):\n",
    "        return \"이름:{}, 나이{}, 메일:{}\\t 주소:{}\".format(self.name, self.age, self.email, self.address)"
   ]
  },
  {
   "cell_type": "code",
   "execution_count": 24,
   "id": "3c804c5b",
   "metadata": {
    "ExecuteTime": {
     "end_time": "2021-07-26T07:13:06.439852Z",
     "start_time": "2021-07-26T07:13:06.422896Z"
    }
   },
   "outputs": [],
   "source": [
    "user1 = Member(\"홍길동\", 20, 'kildong@hong.com', '서울시 용산구')\n",
    "user2 = Member(\"김김김\", 25, 'kimkim@hong.com', '서울시 용산구')\n",
    "user3 = Member(\"신길동\", 30, 'shin@hong.com', '서울시 용산구')\n",
    "user_list = [user1, user2, user3]"
   ]
  },
  {
   "cell_type": "code",
   "execution_count": 26,
   "id": "ab50eed1",
   "metadata": {
    "ExecuteTime": {
     "end_time": "2021-07-26T07:13:39.239471Z",
     "start_time": "2021-07-26T07:13:39.231494Z"
    }
   },
   "outputs": [
    {
     "name": "stdout",
     "output_type": "stream",
     "text": [
      "이름:홍길동, 나이20, 메일:kildong@hong.com\t 주소:서울시 용산구\n",
      "이름:김김김, 나이25, 메일:kimkim@hong.com\t 주소:서울시 용산구\n",
      "이름:신길동, 나이30, 메일:shin@hong.com\t 주소:서울시 용산구\n"
     ]
    }
   ],
   "source": [
    "for user in user_list:\n",
    "    print(user)"
   ]
  },
  {
   "cell_type": "code",
   "execution_count": 27,
   "id": "76bf7543",
   "metadata": {
    "ExecuteTime": {
     "end_time": "2021-07-26T07:15:33.234392Z",
     "start_time": "2021-07-26T07:15:33.220428Z"
    }
   },
   "outputs": [],
   "source": [
    "# 피클링을 이용한 객체를 저장\n",
    "import pickle\n",
    "with open('data/ch09_member.data','wb') as f:    #파일 내용을 한꺼번에 객체로 가져오기 위해서 wb사용. 메모장에서는 안보인다.\n",
    "    pickle.dump(user_list, f)"
   ]
  },
  {
   "cell_type": "code",
   "execution_count": 28,
   "id": "2c94cb6e",
   "metadata": {
    "ExecuteTime": {
     "end_time": "2021-07-26T07:19:04.017906Z",
     "start_time": "2021-07-26T07:19:04.008899Z"
    }
   },
   "outputs": [],
   "source": [
    "del user_list, user1, user2, user3"
   ]
  },
  {
   "cell_type": "code",
   "execution_count": 29,
   "id": "8aae23e4",
   "metadata": {
    "ExecuteTime": {
     "end_time": "2021-07-26T07:19:09.743774Z",
     "start_time": "2021-07-26T07:19:09.736443Z"
    }
   },
   "outputs": [
    {
     "ename": "NameError",
     "evalue": "name 'user_list' is not defined",
     "output_type": "error",
     "traceback": [
      "\u001b[1;31m---------------------------------------------------------------------------\u001b[0m",
      "\u001b[1;31mNameError\u001b[0m                                 Traceback (most recent call last)",
      "\u001b[1;32m<ipython-input-29-a2ac1679fb77>\u001b[0m in \u001b[0;36m<module>\u001b[1;34m\u001b[0m\n\u001b[1;32m----> 1\u001b[1;33m \u001b[0muser_list\u001b[0m\u001b[1;33m\u001b[0m\u001b[1;33m\u001b[0m\u001b[0m\n\u001b[0m",
      "\u001b[1;31mNameError\u001b[0m: name 'user_list' is not defined"
     ]
    }
   ],
   "source": [
    "user_list"
   ]
  },
  {
   "cell_type": "code",
   "execution_count": 30,
   "id": "57b4bcd6",
   "metadata": {
    "ExecuteTime": {
     "end_time": "2021-07-26T07:19:59.834755Z",
     "start_time": "2021-07-26T07:19:59.822783Z"
    }
   },
   "outputs": [],
   "source": [
    "with open('data/ch09_member.data','rb') as f:\n",
    "    ul = pickle.load(f)"
   ]
  },
  {
   "cell_type": "code",
   "execution_count": 31,
   "id": "8469ea0b",
   "metadata": {
    "ExecuteTime": {
     "end_time": "2021-07-26T07:20:06.718035Z",
     "start_time": "2021-07-26T07:20:06.707040Z"
    }
   },
   "outputs": [
    {
     "data": {
      "text/plain": [
       "[<__main__.Member at 0x28dc959bf40>,\n",
       " <__main__.Member at 0x28dc917f100>,\n",
       " <__main__.Member at 0x28dc917f430>]"
      ]
     },
     "execution_count": 31,
     "metadata": {},
     "output_type": "execute_result"
    }
   ],
   "source": [
    "ul #객체 리스트"
   ]
  },
  {
   "cell_type": "code",
   "execution_count": 32,
   "id": "114584b4",
   "metadata": {
    "ExecuteTime": {
     "end_time": "2021-07-26T07:34:57.857425Z",
     "start_time": "2021-07-26T07:34:57.846454Z"
    }
   },
   "outputs": [
    {
     "name": "stdout",
     "output_type": "stream",
     "text": [
      "이름:홍길동, 나이20, 메일:kildong@hong.com\t 주소:서울시 용산구\n",
      "이름:김김김, 나이25, 메일:kimkim@hong.com\t 주소:서울시 용산구\n",
      "이름:신길동, 나이30, 메일:shin@hong.com\t 주소:서울시 용산구\n"
     ]
    }
   ],
   "source": [
    "for u in ul:\n",
    "    print(u)"
   ]
  },
  {
   "cell_type": "markdown",
   "id": "8da64a73",
   "metadata": {},
   "source": [
    "# 3절. CSV 형식 파일 읽기/쓰기"
   ]
  },
  {
   "cell_type": "markdown",
   "id": "0db9b046",
   "metadata": {},
   "source": [
    "## 3.1 reader"
   ]
  },
  {
   "cell_type": "code",
   "execution_count": 34,
   "id": "1e1f305b",
   "metadata": {
    "ExecuteTime": {
     "end_time": "2021-07-26T07:43:13.038707Z",
     "start_time": "2021-07-26T07:43:13.023724Z"
    }
   },
   "outputs": [
    {
     "name": "stdout",
     "output_type": "stream",
     "text": [
      "['홍길동', '20', 'kildong@hong.com', '서울시 강동구']\n",
      "['윤길동', '25', 'yoonkil@hong.com', '서울시 강서구']\n",
      "['신길동', '30', 'shinkil@hong.com', '서울시 영등포구']\n"
     ]
    }
   ],
   "source": [
    "# UTF8로 인코딩된 CSV파일 read\n",
    "import csv\n",
    "with open('data/ch09_member1.csv','r',encoding='utf-8') as f:\n",
    "    reader = csv.reader(f)\n",
    "    # print(list(reader))\n",
    "    for row in reader:\n",
    "        print(row)"
   ]
  },
  {
   "cell_type": "code",
   "execution_count": 36,
   "id": "610c6594",
   "metadata": {
    "ExecuteTime": {
     "end_time": "2021-07-26T07:50:11.448671Z",
     "start_time": "2021-07-26T07:50:11.430719Z"
    }
   },
   "outputs": [
    {
     "name": "stdout",
     "output_type": "stream",
     "text": [
      "마길동 - 20 - ma@hong.com - 광주 - \n",
      "석길동 - 25 - suk@hong.com - 마산 - 팀장\n",
      "탁길동 - 22 - ta@hong.com - 울산 - \n"
     ]
    }
   ],
   "source": [
    "# cp949로 인코딩 된 csv 파일 read(ch09_member1-1.csv)\n",
    "import csv\n",
    "with open('data/ch09_member1-1.csv') as f:\n",
    "    reader = csv.reader(f)\n",
    "    for row in reader:\n",
    "        print(' - '.join(row))"
   ]
  },
  {
   "cell_type": "code",
   "execution_count": 37,
   "id": "76d68b78",
   "metadata": {
    "ExecuteTime": {
     "end_time": "2021-07-26T07:54:00.224388Z",
     "start_time": "2021-07-26T07:54:00.215412Z"
    }
   },
   "outputs": [
    {
     "name": "stdout",
     "output_type": "stream",
     "text": [
      "['홍길동', 20.0, 'kildong@hong.com', '서울시 강동구']\n",
      "['윤길동', 25.0, 'yoonkil@hong.com', '서울시 강서구']\n",
      "['신길동', 30.0, 'shinkil@hong.com', '서울시 영등포구']\n"
     ]
    }
   ],
   "source": [
    "# numeric 엔 따옴포 뺌\n",
    "with open('data/ch09_member1.csv', encoding='utf-8') as f:\n",
    "    reader = csv.reader(f, quotechar='\"',quoting=csv.QUOTE_NONNUMERIC)\n",
    "    for row in reader:\n",
    "        print(row)\n",
    "    "
   ]
  },
  {
   "cell_type": "markdown",
   "id": "e7ef9cf4",
   "metadata": {},
   "source": [
    "## 3.2 writer"
   ]
  },
  {
   "cell_type": "code",
   "execution_count": 38,
   "id": "5acf6b58",
   "metadata": {
    "ExecuteTime": {
     "end_time": "2021-07-26T07:56:15.468721Z",
     "start_time": "2021-07-26T07:56:15.461739Z"
    }
   },
   "outputs": [],
   "source": [
    "user_list =[['홍길동',20,'hong@hong.com','서울'],\n",
    "            ['마길동',25,'ma@hong.com','인천']]"
   ]
  },
  {
   "cell_type": "code",
   "execution_count": 39,
   "id": "b2e2e331",
   "metadata": {
    "ExecuteTime": {
     "end_time": "2021-07-26T07:59:12.316787Z",
     "start_time": "2021-07-26T07:59:12.297146Z"
    }
   },
   "outputs": [],
   "source": [
    "# newline='' 옵션을 빼면 개행 2번\n",
    "try:\n",
    "    with open('data/ch09_member2.csv','w',encoding='utf-8', newline='') as f:\n",
    "        writer = csv.writer(f)\n",
    "        for user in user_list:\n",
    "            writer.writerow(user)\n",
    "except FileNotFoundError as e:\n",
    "    print(e)"
   ]
  },
  {
   "cell_type": "code",
   "execution_count": 41,
   "id": "7e7feac2",
   "metadata": {
    "ExecuteTime": {
     "end_time": "2021-07-26T08:04:10.313467Z",
     "start_time": "2021-07-26T08:04:10.304490Z"
    }
   },
   "outputs": [],
   "source": [
    "# 숫자만 따옴표 안 붙이고, 문자엔 따음표 붙게 csv writer\n",
    "with open('data/ch09_member2-1.csv','w',newline='',encoding='CP949') as f:\n",
    "    writer = csv.writer(f,quoting=csv.QUOTE_NONNUMERIC)\n",
    "#     for user in user_list:\n",
    "#         writer.writerrow(user)\n",
    "    writer.writerows(user_list)"
   ]
  },
  {
   "cell_type": "markdown",
   "id": "e1f095c1",
   "metadata": {},
   "source": [
    "## 3.3 DictReader\n",
    "- csv파일의 자료를 딕셔너리 데이터로 읽기"
   ]
  },
  {
   "cell_type": "code",
   "execution_count": 47,
   "id": "ea2dbac9",
   "metadata": {
    "ExecuteTime": {
     "end_time": "2021-07-26T08:14:31.309119Z",
     "start_time": "2021-07-26T08:14:31.298192Z"
    }
   },
   "outputs": [
    {
     "name": "stdout",
     "output_type": "stream",
     "text": [
      "홍길동 20 kil@hong.com 서울\n",
      "석길동 40 suk@hong.com 인천 팀장\n",
      "마길동 30 ma@hong.com 안양\n"
     ]
    }
   ],
   "source": [
    "# header가 있는 csv파일을 딕셔너리로 읽기\n",
    "with open('data/ch09_member3.csv','r',encoding='utf-8') as f:\n",
    "    dict_reader = csv.DictReader(f)\n",
    "#    print(list(dict_reader))\n",
    "    for row in dict_reader:\n",
    "        if row['job'] is None:\n",
    "            print(row['name'],row['age'],row['email'],row['address'])\n",
    "        else:\n",
    "            print(row['name'],row['age'],row['email'],row['address'],row['job'])"
   ]
  },
  {
   "cell_type": "code",
   "execution_count": 48,
   "id": "008f2b72",
   "metadata": {
    "ExecuteTime": {
     "end_time": "2021-07-26T08:16:35.135263Z",
     "start_time": "2021-07-26T08:16:34.550623Z"
    }
   },
   "outputs": [
    {
     "data": {
      "text/html": [
       "<div>\n",
       "<style scoped>\n",
       "    .dataframe tbody tr th:only-of-type {\n",
       "        vertical-align: middle;\n",
       "    }\n",
       "\n",
       "    .dataframe tbody tr th {\n",
       "        vertical-align: top;\n",
       "    }\n",
       "\n",
       "    .dataframe thead th {\n",
       "        text-align: right;\n",
       "    }\n",
       "</style>\n",
       "<table border=\"1\" class=\"dataframe\">\n",
       "  <thead>\n",
       "    <tr style=\"text-align: right;\">\n",
       "      <th></th>\n",
       "      <th>name</th>\n",
       "      <th>age</th>\n",
       "      <th>email</th>\n",
       "      <th>address</th>\n",
       "      <th>job</th>\n",
       "    </tr>\n",
       "  </thead>\n",
       "  <tbody>\n",
       "    <tr>\n",
       "      <th>0</th>\n",
       "      <td>홍길동</td>\n",
       "      <td>20</td>\n",
       "      <td>kil@hong.com</td>\n",
       "      <td>서울</td>\n",
       "      <td>NaN</td>\n",
       "    </tr>\n",
       "    <tr>\n",
       "      <th>1</th>\n",
       "      <td>석길동</td>\n",
       "      <td>40</td>\n",
       "      <td>suk@hong.com</td>\n",
       "      <td>인천</td>\n",
       "      <td>팀장</td>\n",
       "    </tr>\n",
       "    <tr>\n",
       "      <th>2</th>\n",
       "      <td>마길동</td>\n",
       "      <td>30</td>\n",
       "      <td>ma@hong.com</td>\n",
       "      <td>안양</td>\n",
       "      <td>NaN</td>\n",
       "    </tr>\n",
       "  </tbody>\n",
       "</table>\n",
       "</div>"
      ],
      "text/plain": [
       "  name  age         email address  job\n",
       "0  홍길동   20  kil@hong.com      서울  NaN\n",
       "1  석길동   40  suk@hong.com      인천   팀장\n",
       "2  마길동   30   ma@hong.com      안양  NaN"
      ]
     },
     "execution_count": 48,
     "metadata": {},
     "output_type": "execute_result"
    }
   ],
   "source": [
    "# cf. csv파일을 데이터 프레임으로\n",
    "import pandas as pd\n",
    "member = pd.read_csv('data/ch09_member3.csv',encoding='utf-8')\n",
    "member"
   ]
  },
  {
   "cell_type": "code",
   "execution_count": 49,
   "id": "0b215d2a",
   "metadata": {
    "ExecuteTime": {
     "end_time": "2021-07-26T08:17:08.843572Z",
     "start_time": "2021-07-26T08:17:08.829615Z"
    }
   },
   "outputs": [
    {
     "data": {
      "text/plain": [
       "pandas.core.frame.DataFrame"
      ]
     },
     "execution_count": 49,
     "metadata": {},
     "output_type": "execute_result"
    }
   ],
   "source": [
    "type(member)"
   ]
  },
  {
   "cell_type": "code",
   "execution_count": 50,
   "id": "e2136c08",
   "metadata": {
    "ExecuteTime": {
     "end_time": "2021-07-26T08:32:53.660382Z",
     "start_time": "2021-07-26T08:32:53.642393Z"
    }
   },
   "outputs": [
    {
     "name": "stdout",
     "output_type": "stream",
     "text": [
      "[{'마길동': '석길동', '20': '25', 'ma@hong.com': 'suk@hong.com', '광주': '마산', '': '팀장'}, {'마길동': '탁길동', '20': '22', 'ma@hong.com': 'ta@hong.com', '광주': '울산', '': ''}]\n"
     ]
    }
   ],
   "source": [
    "# ch09_member1-1.csv\n",
    "with open('data/ch09_member1-1.csv','r',encoding='CP949') as f:\n",
    "    dict_reader = csv.DictReader(f)\n",
    "    print(list(dict_reader))\n",
    "    #헤더가 첫줄로 생각됨"
   ]
  },
  {
   "cell_type": "code",
   "execution_count": 53,
   "id": "e421c37a",
   "metadata": {
    "ExecuteTime": {
     "end_time": "2021-07-26T08:38:02.514241Z",
     "start_time": "2021-07-26T08:38:02.505244Z"
    }
   },
   "outputs": [
    {
     "name": "stdout",
     "output_type": "stream",
     "text": [
      "마길동 20 ma@hong.com 광주\n",
      "석길동 25 suk@hong.com 마산\n",
      "탁길동 22 ta@hong.com 울산\n"
     ]
    }
   ],
   "source": [
    "# ch09_member1-1.csv\n",
    "with open('data/ch09_member1-1.csv','r',encoding='CP949') as f:\n",
    "    dict_reader = csv.DictReader(f, fieldnames=['Name','Age','Email','Address'])\n",
    "    for row in dict_reader:\n",
    "        #print(row)\n",
    "        print(row['Name'], row['Age'], row['Email'], row['Address'] )"
   ]
  },
  {
   "cell_type": "code",
   "execution_count": 54,
   "id": "bfa8d46c",
   "metadata": {
    "ExecuteTime": {
     "end_time": "2021-07-26T08:43:30.924353Z",
     "start_time": "2021-07-26T08:43:30.908410Z"
    }
   },
   "outputs": [
    {
     "name": "stdout",
     "output_type": "stream",
     "text": [
      "마길동 20 ma@hong.com 광주 \n",
      "석길동 25 suk@hong.com 마산 팀장\n",
      "탁길동 22 ta@hong.com 울산 \n"
     ]
    }
   ],
   "source": [
    "# ch09_member1-1.csv\n",
    "with open('data/ch09_member1-1.csv','r',encoding='CP949') as f:\n",
    "    dict_reader = csv.DictReader(f, fieldnames=['Name','Age','Email','Address','job'])\n",
    "    for row in dict_reader:\n",
    "        #print(row)\n",
    "        print(row['Name'], row['Age'], row['Email'], row['Address'],row['job'] ) "
   ]
  },
  {
   "cell_type": "code",
   "execution_count": 61,
   "id": "9ba3e1de",
   "metadata": {
    "ExecuteTime": {
     "end_time": "2021-07-26T08:47:47.030867Z",
     "start_time": "2021-07-26T08:47:47.020900Z"
    }
   },
   "outputs": [
    {
     "name": "stdout",
     "output_type": "stream",
     "text": [
      "마길동 20 ma@hong.com 광주\n",
      "석길동 25 suk@hong.com 마산 팀장\n",
      "탁길동 22 ta@hong.com 울산\n"
     ]
    }
   ],
   "source": [
    "# ch09_member1-1.csv\n",
    "with open('data/ch09_member1-1.csv','r',encoding='CP949') as f:\n",
    "    dict_reader = csv.DictReader(f, fieldnames=['Name','Age','Email','Address'],\n",
    "                                restkey='job')\n",
    "    for row in dict_reader:\n",
    "        #print(row)\n",
    "        if row['job'][0] == '':\n",
    "            print(row['Name'], row['Age'], row['Email'], row['Address'])\n",
    "        else:\n",
    "            print(row['Name'], row['Age'], row['Email'], row['Address'], row['job'][0] )"
   ]
  },
  {
   "cell_type": "markdown",
   "id": "666565db",
   "metadata": {},
   "source": [
    "## 3.4 DictWriter\n",
    "- 딕셔너리 변수의 내용을 csv파일로 쓰기"
   ]
  },
  {
   "cell_type": "code",
   "execution_count": 62,
   "id": "6d198d6f",
   "metadata": {
    "ExecuteTime": {
     "end_time": "2021-07-26T08:52:28.051105Z",
     "start_time": "2021-07-26T08:52:28.046151Z"
    }
   },
   "outputs": [],
   "source": [
    "user1 = {'name':'홍길동','age':20,'email':'hong@hong.com','address':'서울'}\n",
    "user2 = {'name':'박길동','age':23,'email':'park@hong.com','address':'부산'}\n",
    "user3 = {'name':'신길동','age':29,'email':'shin@hong.com','address':'광주'}\n",
    "user_list = [user1, user2, user3]\n",
    "fieldnames = list(user1.keys()) # ['name', 'age', 'email', 'address'] 헤더에 쓸 내용"
   ]
  },
  {
   "cell_type": "code",
   "execution_count": 63,
   "id": "0f8a40cf",
   "metadata": {
    "ExecuteTime": {
     "end_time": "2021-07-26T08:53:06.106730Z",
     "start_time": "2021-07-26T08:53:06.096758Z"
    }
   },
   "outputs": [
    {
     "data": {
      "text/plain": [
       "['name', 'age', 'email', 'address']"
      ]
     },
     "execution_count": 63,
     "metadata": {},
     "output_type": "execute_result"
    }
   ],
   "source": [
    "list(user1.keys())"
   ]
  },
  {
   "cell_type": "markdown",
   "id": "c778fa8f",
   "metadata": {},
   "source": [
    "```\n",
    "csv 파일의 니용\n",
    "name, age, email, address\n",
    "홍길동,20,hong@hong.com,서울\n",
    "..."
   ]
  },
  {
   "cell_type": "code",
   "execution_count": 65,
   "id": "1f45a627",
   "metadata": {
    "ExecuteTime": {
     "end_time": "2021-07-26T09:00:24.308278Z",
     "start_time": "2021-07-26T09:00:24.300788Z"
    }
   },
   "outputs": [],
   "source": [
    "with open('data/ch09_member4.csv','w',encoding='UTF-8',newline ='') as f:\n",
    "    dict_writer = csv.DictWriter(f, fieldnames=fieldnames)\n",
    "    dict_writer.writeheader() #header 한줄 쓰기\n",
    "#     dict_writer.writerow(user1)\n",
    "#     dict_writer.writerow(user2)\n",
    "#     dict_writer.writerow(user3)\n",
    "\n",
    "#     for user in user_list:\n",
    "#         dict_writer.writerow(user)\n",
    "    dict_writer.writerows(user_list)"
   ]
  },
  {
   "cell_type": "code",
   "execution_count": null,
   "id": "6998af83",
   "metadata": {},
   "outputs": [],
   "source": [
    "# header 내용 : name, age, email, address, job"
   ]
  },
  {
   "cell_type": "code",
   "execution_count": 67,
   "id": "6ef4b1db",
   "metadata": {
    "ExecuteTime": {
     "end_time": "2021-07-26T09:04:53.968323Z",
     "start_time": "2021-07-26T09:04:53.962339Z"
    }
   },
   "outputs": [],
   "source": [
    "user1 = {'name':'홍길동','age':20,'email':'hong@hong.com','address':'서울'}\n",
    "user2 = {'name':'석길동','age':23,'email':'park@hong.com','address':'부산','job':'팀장'}\n",
    "user3 = {'name':'신길동','age':29,'email':'shin@hong.com','address':'광주'}\n",
    "user_list = [user1, user2, user3]\n",
    "fieldnames = list(user2.keys())  #해더로 쓸 내용\n",
    "\n"
   ]
  },
  {
   "cell_type": "code",
   "execution_count": 69,
   "id": "117a43de",
   "metadata": {
    "ExecuteTime": {
     "end_time": "2021-07-26T09:09:12.367671Z",
     "start_time": "2021-07-26T09:09:12.351713Z"
    }
   },
   "outputs": [],
   "source": [
    "with open('data/ch09_member5.csv','w',newline='',encoding='utf-8') as f:\n",
    "    dict_writer = csv.DictWriter(f, fieldnames=fieldnames)\n",
    "    dict_writer.writeheader()\n",
    "    dict_writer.writerows(user_list)"
   ]
  },
  {
   "cell_type": "code",
   "execution_count": null,
   "id": "ad218c83",
   "metadata": {},
   "outputs": [],
   "source": [
    "# header 내용 : name, age, email, address"
   ]
  },
  {
   "cell_type": "code",
   "execution_count": 70,
   "id": "28218b9b",
   "metadata": {
    "ExecuteTime": {
     "end_time": "2021-07-26T09:10:53.621445Z",
     "start_time": "2021-07-26T09:10:53.617435Z"
    }
   },
   "outputs": [],
   "source": [
    "user1 = {'name':'홍길동','age':20,'email':'hong@hong.com','address':'서울'}\n",
    "user2 = {'name':'석길동','age':23,'email':'park@hong.com','address':'부산','job':'팀장'}\n",
    "user3 = {'name':'신길동','age':29,'email':'shin@hong.com','address':'광주'}\n",
    "user_list = [user1, user2, user3]\n",
    "fieldnames = list(user1.keys())  #해더로 쓸 내용"
   ]
  },
  {
   "cell_type": "code",
   "execution_count": 72,
   "id": "008e5e5a",
   "metadata": {
    "ExecuteTime": {
     "end_time": "2021-07-26T09:11:53.756844Z",
     "start_time": "2021-07-26T09:11:53.738914Z"
    }
   },
   "outputs": [],
   "source": [
    "with open('data/ch09_member5.csv','w',newline='',encoding='utf-8') as f:\n",
    "    dict_writer = csv.DictWriter(f, fieldnames=fieldnames, extrasaction='ignore') #필드이름이 없는 필드를 무시 \n",
    "                                                           #extrasaction='raise' #기본값 예외 발생시킨다\n",
    "    dict_writer.writeheader()\n",
    "    dict_writer.writerows(user_list)"
   ]
  },
  {
   "cell_type": "markdown",
   "id": "bba7b64a",
   "metadata": {},
   "source": [
    "# 4절. JSON 데이터 저장하고 불러오기(dump, load)"
   ]
  },
  {
   "cell_type": "code",
   "execution_count": null,
   "id": "1731cee4",
   "metadata": {},
   "outputs": [],
   "source": []
  },
  {
   "cell_type": "markdown",
   "id": "997c3833",
   "metadata": {},
   "source": [
    "# 5절. HDF5 파일 일기/쓰기"
   ]
  },
  {
   "cell_type": "code",
   "execution_count": null,
   "id": "9fa030b3",
   "metadata": {},
   "outputs": [],
   "source": []
  },
  {
   "cell_type": "code",
   "execution_count": null,
   "id": "365ad50a",
   "metadata": {},
   "outputs": [],
   "source": []
  },
  {
   "cell_type": "code",
   "execution_count": null,
   "id": "ccd11d92",
   "metadata": {},
   "outputs": [],
   "source": []
  },
  {
   "cell_type": "code",
   "execution_count": null,
   "id": "b9405170",
   "metadata": {},
   "outputs": [],
   "source": [
    "#스트림 객체 구분법\n",
    "#스트림 객체 타입?"
   ]
  },
  {
   "cell_type": "code",
   "execution_count": null,
   "id": "0a694412",
   "metadata": {},
   "outputs": [],
   "source": []
  },
  {
   "cell_type": "code",
   "execution_count": null,
   "id": "ffd7718b",
   "metadata": {},
   "outputs": [],
   "source": []
  },
  {
   "cell_type": "code",
   "execution_count": null,
   "id": "b89aeba8",
   "metadata": {},
   "outputs": [],
   "source": []
  },
  {
   "cell_type": "code",
   "execution_count": null,
   "id": "974d9fbf",
   "metadata": {},
   "outputs": [],
   "source": []
  },
  {
   "cell_type": "code",
   "execution_count": null,
   "id": "ce426432",
   "metadata": {},
   "outputs": [],
   "source": []
  },
  {
   "cell_type": "code",
   "execution_count": null,
   "id": "69f0cc64",
   "metadata": {},
   "outputs": [],
   "source": []
  },
  {
   "cell_type": "code",
   "execution_count": null,
   "id": "08d173e3",
   "metadata": {},
   "outputs": [],
   "source": []
  },
  {
   "cell_type": "code",
   "execution_count": null,
   "id": "1434fef9",
   "metadata": {},
   "outputs": [],
   "source": []
  },
  {
   "cell_type": "code",
   "execution_count": null,
   "id": "d9f56be8",
   "metadata": {},
   "outputs": [],
   "source": []
  },
  {
   "cell_type": "code",
   "execution_count": null,
   "id": "185afa83",
   "metadata": {},
   "outputs": [],
   "source": []
  },
  {
   "cell_type": "code",
   "execution_count": null,
   "id": "b589f739",
   "metadata": {},
   "outputs": [],
   "source": []
  },
  {
   "cell_type": "code",
   "execution_count": null,
   "id": "6c35ac44",
   "metadata": {},
   "outputs": [],
   "source": []
  }
 ],
 "metadata": {
  "kernelspec": {
   "display_name": "Python 3",
   "language": "python",
   "name": "python3"
  },
  "language_info": {
   "codemirror_mode": {
    "name": "ipython",
    "version": 3
   },
   "file_extension": ".py",
   "mimetype": "text/x-python",
   "name": "python",
   "nbconvert_exporter": "python",
   "pygments_lexer": "ipython3",
   "version": "3.8.8"
  },
  "toc": {
   "base_numbering": 1,
   "nav_menu": {},
   "number_sections": false,
   "sideBar": true,
   "skip_h1_title": false,
   "title_cell": "Table of Contents",
   "title_sidebar": "Contents",
   "toc_cell": false,
   "toc_position": {},
   "toc_section_display": true,
   "toc_window_display": true
  },
  "varInspector": {
   "cols": {
    "lenName": 16,
    "lenType": 16,
    "lenVar": 40
   },
   "kernels_config": {
    "python": {
     "delete_cmd_postfix": "",
     "delete_cmd_prefix": "del ",
     "library": "var_list.py",
     "varRefreshCmd": "print(var_dic_list())"
    },
    "r": {
     "delete_cmd_postfix": ") ",
     "delete_cmd_prefix": "rm(",
     "library": "var_list.r",
     "varRefreshCmd": "cat(var_dic_list()) "
    }
   },
   "types_to_exclude": [
    "module",
    "function",
    "builtin_function_or_method",
    "instance",
    "_Feature"
   ],
   "window_display": false
  }
 },
 "nbformat": 4,
 "nbformat_minor": 5
}
