{
 "cells": [
  {
   "cell_type": "markdown",
   "id": "8afde019",
   "metadata": {},
   "source": [
    "<b><font size=\"6\" color=\"red\">ch05. 함수</font></b>\n",
    "- 반복해서 사용할 코드를 묶어 놓고 그것에 이름을 붙인 것.\n",
    "- 오버로딩이 불가\n",
    "- 반복해서 사용할 코드는 함수를 이용하면 훨씬 구조적이고 간결한 코드 작성\n",
    "- 함수의 정의\n",
    "```\n",
    "def 함수명([매개변수1, 매개변수2,....]):\n",
    "    명령어1\n",
    "    명령어2\n",
    "```"
   ]
  },
  {
   "cell_type": "markdown",
   "id": "e9aab74e",
   "metadata": {},
   "source": [
    "# 1절. 함수의 정의 및 사용"
   ]
  },
  {
   "cell_type": "code",
   "execution_count": 1,
   "id": "c23623b8",
   "metadata": {
    "ExecuteTime": {
     "end_time": "2021-07-21T06:46:17.021239Z",
     "start_time": "2021-07-21T06:46:17.015741Z"
    }
   },
   "outputs": [],
   "source": [
    "def my_hello(x):\n",
    "    for i in range(x):\n",
    "        print(i, 'Hello, Python')"
   ]
  },
  {
   "cell_type": "code",
   "execution_count": 2,
   "id": "c7508401",
   "metadata": {
    "ExecuteTime": {
     "end_time": "2021-07-21T06:46:38.725079Z",
     "start_time": "2021-07-21T06:46:38.714108Z"
    }
   },
   "outputs": [
    {
     "name": "stdout",
     "output_type": "stream",
     "text": [
      "0 Hello, Python\n",
      "1 Hello, Python\n",
      "2 Hello, Python\n",
      "3 Hello, Python\n",
      "4 Hello, Python\n"
     ]
    }
   ],
   "source": [
    "my_hello(5)"
   ]
  },
  {
   "cell_type": "code",
   "execution_count": 5,
   "id": "9137b593",
   "metadata": {
    "ExecuteTime": {
     "end_time": "2021-07-21T06:46:47.303744Z",
     "start_time": "2021-07-21T06:46:47.285800Z"
    }
   },
   "outputs": [],
   "source": [
    "my_hello=10"
   ]
  },
  {
   "cell_type": "code",
   "execution_count": 6,
   "id": "d0d148ef",
   "metadata": {
    "ExecuteTime": {
     "end_time": "2021-07-21T06:46:48.559068Z",
     "start_time": "2021-07-21T06:46:48.363374Z"
    },
    "scrolled": true
   },
   "outputs": [
    {
     "ename": "TypeError",
     "evalue": "'int' object is not callable",
     "output_type": "error",
     "traceback": [
      "\u001b[1;31m---------------------------------------------------------------------------\u001b[0m",
      "\u001b[1;31mTypeError\u001b[0m                                 Traceback (most recent call last)",
      "\u001b[1;32m<ipython-input-6-bb2495b19157>\u001b[0m in \u001b[0;36m<module>\u001b[1;34m\u001b[0m\n\u001b[1;32m----> 1\u001b[1;33m \u001b[0mmy_hello\u001b[0m\u001b[1;33m(\u001b[0m\u001b[1;36m5\u001b[0m\u001b[1;33m)\u001b[0m\u001b[1;33m\u001b[0m\u001b[1;33m\u001b[0m\u001b[0m\n\u001b[0m",
      "\u001b[1;31mTypeError\u001b[0m: 'int' object is not callable"
     ]
    }
   ],
   "source": [
    "my_hello(5)"
   ]
  },
  {
   "cell_type": "code",
   "execution_count": 2,
   "id": "be809ebc",
   "metadata": {
    "ExecuteTime": {
     "end_time": "2021-07-21T15:45:51.069560Z",
     "start_time": "2021-07-21T15:45:51.060584Z"
    }
   },
   "outputs": [],
   "source": [
    "def my_hello():\n",
    "    print('Hello, world')\n",
    "    print('Hello, Python')"
   ]
  },
  {
   "cell_type": "code",
   "execution_count": 3,
   "id": "69ce67fc",
   "metadata": {
    "ExecuteTime": {
     "end_time": "2021-07-21T15:45:52.805655Z",
     "start_time": "2021-07-21T15:45:52.798674Z"
    }
   },
   "outputs": [
    {
     "name": "stdout",
     "output_type": "stream",
     "text": [
      "Hello, world\n",
      "Hello, Python\n"
     ]
    }
   ],
   "source": [
    "my_hello()"
   ]
  },
  {
   "cell_type": "code",
   "execution_count": 4,
   "id": "d7127e58",
   "metadata": {
    "ExecuteTime": {
     "end_time": "2021-07-21T15:45:55.514276Z",
     "start_time": "2021-07-21T15:45:55.502306Z"
    }
   },
   "outputs": [
    {
     "data": {
      "text/plain": [
       "function"
      ]
     },
     "execution_count": 4,
     "metadata": {},
     "output_type": "execute_result"
    }
   ],
   "source": [
    "type(my_hello)"
   ]
  },
  {
   "cell_type": "code",
   "execution_count": 5,
   "id": "8d39f31c",
   "metadata": {
    "ExecuteTime": {
     "end_time": "2021-07-21T15:45:56.721983Z",
     "start_time": "2021-07-21T15:45:56.703035Z"
    }
   },
   "outputs": [
    {
     "data": {
      "text/plain": [
       "'__main__'"
      ]
     },
     "execution_count": 5,
     "metadata": {},
     "output_type": "execute_result"
    }
   ],
   "source": [
    "__name__"
   ]
  },
  {
   "cell_type": "markdown",
   "id": "ec82fef5",
   "metadata": {},
   "source": [
    "일단 __name__이라는 변수는 내가 변수로 만든 것이 아니라 원래부터 파이썬에서 정한 '이미 있는' 변수라고 한다.\n",
    "\n",
    "이 변수에는 해당 파이썬 파일의 이름 즉, 모듈의 이름(예: function1.py이면 function1이  __name__이 됨)을 담게 된다.\n",
    "\n",
    "그런데 \"그 파일 안에서\" 해당 함수를 실행시키면 __name__ 변수에 담기는 것은 그 파일 혹은, 모듈의 이름이 아니고 __main__이라는 값이 되도록 정해져 있다."
   ]
  },
  {
   "cell_type": "code",
   "execution_count": 6,
   "id": "061d6e1d",
   "metadata": {
    "ExecuteTime": {
     "end_time": "2021-07-21T15:45:57.639900Z",
     "start_time": "2021-07-21T15:45:57.634910Z"
    }
   },
   "outputs": [
    {
     "name": "stdout",
     "output_type": "stream",
     "text": [
      "Hello, world\n",
      "Hello, Python\n"
     ]
    }
   ],
   "source": [
    "if __name__=='__main__':\n",
    "    my_hello()"
   ]
  },
  {
   "cell_type": "markdown",
   "id": "5bbabcc7",
   "metadata": {},
   "source": [
    "\n",
    "이런 상황을 막기 위해 즉, import 했을 때 그 모듈안에 있는 모든 코드들이 그대로 실행되는 것을 막기 위해\n",
    "\n",
    "if __name__==\"__main__\": 으로 메인 함수 선언을 해주어야 한다고 이해하면 될 것 같다.\n",
    "\n",
    "https://lovelydiary.tistory.com/297(참고)\n"
   ]
  },
  {
   "cell_type": "code",
   "execution_count": 1,
   "id": "09b3f185",
   "metadata": {
    "ExecuteTime": {
     "end_time": "2021-07-21T07:00:49.337452Z",
     "start_time": "2021-07-21T07:00:49.319932Z"
    }
   },
   "outputs": [],
   "source": [
    "import a #a.py가 해석되서 메모리에 로드"
   ]
  },
  {
   "cell_type": "code",
   "execution_count": 2,
   "id": "e6d3b685",
   "metadata": {
    "ExecuteTime": {
     "end_time": "2021-07-21T07:00:49.916458Z",
     "start_time": "2021-07-21T07:00:49.910640Z"
    },
    "scrolled": true
   },
   "outputs": [
    {
     "name": "stdout",
     "output_type": "stream",
     "text": [
      "모듈 테스트입니다.\n",
      "더운 날씨 건강 조심하세요\n"
     ]
    }
   ],
   "source": [
    "a.test()"
   ]
  },
  {
   "cell_type": "code",
   "execution_count": 4,
   "id": "1cb8390f",
   "metadata": {
    "ExecuteTime": {
     "end_time": "2021-07-21T07:04:19.547937Z",
     "start_time": "2021-07-21T07:04:19.540023Z"
    }
   },
   "outputs": [
    {
     "name": "stdout",
     "output_type": "stream",
     "text": [
      "90\n",
      "50\n"
     ]
    }
   ],
   "source": [
    "def my_add(num1, num2, num3=0): #기본값을 갖는 매개변수(키워드 인수)는 뒤에\n",
    "    return num1+num2+num3\n",
    "print(my_add(20,30,40))\n",
    "print(my_add(20,30))"
   ]
  },
  {
   "cell_type": "markdown",
   "id": "b59902c2",
   "metadata": {},
   "source": [
    "## 1.1 docstring"
   ]
  },
  {
   "cell_type": "code",
   "execution_count": 7,
   "id": "0368cb26",
   "metadata": {
    "ExecuteTime": {
     "end_time": "2021-07-21T07:08:33.472061Z",
     "start_time": "2021-07-21T07:08:33.454109Z"
    }
   },
   "outputs": [],
   "source": [
    "def my_function():\n",
    "    \"\"\"\n",
    "    함수의 첫라인에 독스트링을 포함할 수 있습니다.\n",
    "    독스트링은 함수의 설명서를 달아주는 역할, 주석보다는 많은 기능\n",
    "    \"\"\"\n",
    "    pass"
   ]
  },
  {
   "cell_type": "code",
   "execution_count": 8,
   "id": "1d015011",
   "metadata": {
    "ExecuteTime": {
     "end_time": "2021-07-21T07:08:35.821513Z",
     "start_time": "2021-07-21T07:08:35.812408Z"
    }
   },
   "outputs": [
    {
     "name": "stdout",
     "output_type": "stream",
     "text": [
      "\n",
      "    함수의 첫라인에 독스트링을 포함할 수 있습니다.\n",
      "    독스트링은 함수의 설명서를 달아주는 역할, 주석보다는 많은 기능\n",
      "    \n"
     ]
    }
   ],
   "source": [
    "print(my_function.__doc__)"
   ]
  },
  {
   "cell_type": "code",
   "execution_count": null,
   "id": "403245d3",
   "metadata": {},
   "outputs": [],
   "source": [
    "my_function()"
   ]
  },
  {
   "cell_type": "code",
   "execution_count": 12,
   "id": "cbca7da2",
   "metadata": {
    "ExecuteTime": {
     "end_time": "2021-07-21T07:18:43.089193Z",
     "start_time": "2021-07-21T07:18:43.081241Z"
    }
   },
   "outputs": [],
   "source": [
    "def fibonacci(n):\n",
    "    \"\"\"\n",
    "    매개변수로 들어온 n값 미만의 피보나치 수열을 출력합니다.\n",
    "    ex. 매개변수로 10 : 0. 1. 1. 2. 3. 5. 8. 13. 21. 34,....\n",
    "    ex. 매개변수로 5  : 0.1.1.2.3\n",
    "    \"\"\"\n",
    "    a, b = 0, 1\n",
    "    while a < n:\n",
    "        print(a, end ='. ')\n",
    "        a, b = b, a+b\n",
    "    print()   "
   ]
  },
  {
   "cell_type": "code",
   "execution_count": 13,
   "id": "2b752b99",
   "metadata": {
    "ExecuteTime": {
     "end_time": "2021-07-21T07:18:43.616553Z",
     "start_time": "2021-07-21T07:18:43.598602Z"
    }
   },
   "outputs": [
    {
     "name": "stdout",
     "output_type": "stream",
     "text": [
      "0. 1. 1. 2. 3. \n",
      "TEST\n"
     ]
    }
   ],
   "source": [
    "if __name__=='__main__':    #__name__ == __main__은 인터프리터에서 직접 실행했을 경우에만 if문 내의 코드를 돌리라는 명령이 됩니다.\n",
    "    fibonacci(5)\n",
    "    print(\"TEST\")"
   ]
  },
  {
   "cell_type": "markdown",
   "id": "f87b9a21",
   "metadata": {},
   "source": [
    "## 1.2 지역변수(local var)와 전역변수(global var)"
   ]
  },
  {
   "cell_type": "code",
   "execution_count": 7,
   "id": "d5e01cb7",
   "metadata": {
    "ExecuteTime": {
     "end_time": "2021-07-21T15:58:32.949296Z",
     "start_time": "2021-07-21T15:58:32.934336Z"
    }
   },
   "outputs": [
    {
     "name": "stdout",
     "output_type": "stream",
     "text": [
      "100\n",
      "100\n"
     ]
    }
   ],
   "source": [
    "global_var = 100 #전역변수\n",
    "def func1():\n",
    "    print(global_var)\n",
    "func1()\n",
    "print(global_var)"
   ]
  },
  {
   "cell_type": "code",
   "execution_count": 18,
   "id": "9ed0e04a",
   "metadata": {
    "ExecuteTime": {
     "end_time": "2021-07-21T07:33:26.049195Z",
     "start_time": "2021-07-21T07:33:26.032241Z"
    }
   },
   "outputs": [
    {
     "name": "stdout",
     "output_type": "stream",
     "text": [
      "200\n"
     ]
    }
   ],
   "source": [
    "def func2():\n",
    "    local_var = 200  # 지역변수\n",
    "    print(local_var)\n",
    "func2()"
   ]
  },
  {
   "cell_type": "code",
   "execution_count": 19,
   "id": "97847689",
   "metadata": {
    "ExecuteTime": {
     "end_time": "2021-07-21T07:34:00.407674Z",
     "start_time": "2021-07-21T07:34:00.399696Z"
    }
   },
   "outputs": [
    {
     "ename": "NameError",
     "evalue": "name 'local_var' is not defined",
     "output_type": "error",
     "traceback": [
      "\u001b[1;31m---------------------------------------------------------------------------\u001b[0m",
      "\u001b[1;31mNameError\u001b[0m                                 Traceback (most recent call last)",
      "\u001b[1;32m<ipython-input-19-8852b4c53ffd>\u001b[0m in \u001b[0;36m<module>\u001b[1;34m\u001b[0m\n\u001b[1;32m----> 1\u001b[1;33m \u001b[0mlocal_var\u001b[0m\u001b[1;33m\u001b[0m\u001b[1;33m\u001b[0m\u001b[0m\n\u001b[0m",
      "\u001b[1;31mNameError\u001b[0m: name 'local_var' is not defined"
     ]
    }
   ],
   "source": [
    "local_var"
   ]
  },
  {
   "cell_type": "code",
   "execution_count": 20,
   "id": "5d34d968",
   "metadata": {
    "ExecuteTime": {
     "end_time": "2021-07-21T07:35:33.373424Z",
     "start_time": "2021-07-21T07:35:33.363451Z"
    }
   },
   "outputs": [
    {
     "name": "stdout",
     "output_type": "stream",
     "text": [
      "200\n",
      "전역변수: 100\n"
     ]
    }
   ],
   "source": [
    "g_var = 100 # 전역변수\n",
    "def func3():\n",
    "    g_var = 200 # 지역변수\n",
    "    print(g_var)\n",
    "func3()\n",
    "print('전역변수:',g_var)"
   ]
  },
  {
   "cell_type": "code",
   "execution_count": 23,
   "id": "cf5a30db",
   "metadata": {
    "ExecuteTime": {
     "end_time": "2021-07-21T07:38:46.412670Z",
     "start_time": "2021-07-21T07:38:46.392723Z"
    }
   },
   "outputs": [
    {
     "ename": "UnboundLocalError",
     "evalue": "local variable 'g_var' referenced before assignment",
     "output_type": "error",
     "traceback": [
      "\u001b[1;31m---------------------------------------------------------------------------\u001b[0m",
      "\u001b[1;31mUnboundLocalError\u001b[0m                         Traceback (most recent call last)",
      "\u001b[1;32m<ipython-input-23-41206c35a86e>\u001b[0m in \u001b[0;36m<module>\u001b[1;34m\u001b[0m\n\u001b[0;32m      5\u001b[0m     \u001b[0mg_var\u001b[0m \u001b[1;33m=\u001b[0m \u001b[1;36m200\u001b[0m  \u001b[1;31m# 지역변수\u001b[0m\u001b[1;33m\u001b[0m\u001b[1;33m\u001b[0m\u001b[0m\n\u001b[0;32m      6\u001b[0m     \u001b[0mprint\u001b[0m\u001b[1;33m(\u001b[0m\u001b[1;34m'after :'\u001b[0m\u001b[1;33m,\u001b[0m\u001b[0mg_var\u001b[0m\u001b[1;33m)\u001b[0m\u001b[1;33m\u001b[0m\u001b[1;33m\u001b[0m\u001b[0m\n\u001b[1;32m----> 7\u001b[1;33m \u001b[0mfunc3\u001b[0m\u001b[1;33m(\u001b[0m\u001b[1;33m)\u001b[0m\u001b[1;33m\u001b[0m\u001b[1;33m\u001b[0m\u001b[0m\n\u001b[0m",
      "\u001b[1;32m<ipython-input-23-41206c35a86e>\u001b[0m in \u001b[0;36mfunc3\u001b[1;34m()\u001b[0m\n\u001b[0;32m      2\u001b[0m \u001b[0mg_var\u001b[0m \u001b[1;33m=\u001b[0m \u001b[1;36m100\u001b[0m \u001b[1;31m# 전역변수\u001b[0m\u001b[1;33m\u001b[0m\u001b[1;33m\u001b[0m\u001b[0m\n\u001b[0;32m      3\u001b[0m \u001b[1;32mdef\u001b[0m \u001b[0mfunc3\u001b[0m\u001b[1;33m(\u001b[0m\u001b[1;33m)\u001b[0m\u001b[1;33m:\u001b[0m\u001b[1;33m\u001b[0m\u001b[1;33m\u001b[0m\u001b[0m\n\u001b[1;32m----> 4\u001b[1;33m     \u001b[0mprint\u001b[0m\u001b[1;33m(\u001b[0m\u001b[1;34m'before :'\u001b[0m\u001b[1;33m,\u001b[0m \u001b[0mg_var\u001b[0m\u001b[1;33m)\u001b[0m\u001b[1;33m\u001b[0m\u001b[1;33m\u001b[0m\u001b[0m\n\u001b[0m\u001b[0;32m      5\u001b[0m     \u001b[0mg_var\u001b[0m \u001b[1;33m=\u001b[0m \u001b[1;36m200\u001b[0m  \u001b[1;31m# 지역변수\u001b[0m\u001b[1;33m\u001b[0m\u001b[1;33m\u001b[0m\u001b[0m\n\u001b[0;32m      6\u001b[0m     \u001b[0mprint\u001b[0m\u001b[1;33m(\u001b[0m\u001b[1;34m'after :'\u001b[0m\u001b[1;33m,\u001b[0m\u001b[0mg_var\u001b[0m\u001b[1;33m)\u001b[0m\u001b[1;33m\u001b[0m\u001b[1;33m\u001b[0m\u001b[0m\n",
      "\u001b[1;31mUnboundLocalError\u001b[0m: local variable 'g_var' referenced before assignment"
     ]
    }
   ],
   "source": [
    "# 렉시컬 특성\n",
    "g_var = 100 # 전역변수\n",
    "def func3():\n",
    "    print('before :', g_var)\n",
    "    g_var = 200  # 지역변수\n",
    "    print('after :',g_var)\n",
    "func3()"
   ]
  },
  {
   "cell_type": "code",
   "execution_count": 24,
   "id": "722952d0",
   "metadata": {
    "ExecuteTime": {
     "end_time": "2021-07-21T07:45:52.062849Z",
     "start_time": "2021-07-21T07:45:52.045895Z"
    }
   },
   "outputs": [
    {
     "name": "stdout",
     "output_type": "stream",
     "text": [
      "before : 100\n",
      "after : 200\n",
      "200\n"
     ]
    }
   ],
   "source": [
    "g_var = 100 # 전역변수\n",
    "def func3():\n",
    "    global g_var # func3 함수 내에서의 g_var는 전역변수로 쓸거야\n",
    "    print('before :', g_var)  #fun3함수 내의 g_var는 전역변수\n",
    "    g_var = 200  #전역변수\n",
    "    print('after :',g_var)\n",
    "func3()\n",
    "print(g_var)"
   ]
  },
  {
   "cell_type": "markdown",
   "id": "04bb694a",
   "metadata": {},
   "source": [
    "## 1.3값에 의한 호출\n",
    "- 함수에 매개변수(인수)로 전달되는 변수가 스칼라 변수(숫자, 문자, 논리)일 경우"
   ]
  },
  {
   "cell_type": "code",
   "execution_count": 28,
   "id": "b10c5e10",
   "metadata": {
    "ExecuteTime": {
     "end_time": "2021-07-21T07:55:49.239630Z",
     "start_time": "2021-07-21T07:55:49.226637Z"
    }
   },
   "outputs": [
    {
     "data": {
      "text/plain": [
       "1529612877488"
      ]
     },
     "execution_count": 28,
     "metadata": {},
     "output_type": "execute_result"
    }
   ],
   "source": [
    "foo = 'a'  #전역변수\n",
    "id(foo)"
   ]
  },
  {
   "cell_type": "code",
   "execution_count": 41,
   "id": "249ed6d3",
   "metadata": {
    "ExecuteTime": {
     "end_time": "2021-07-21T08:09:14.954650Z",
     "start_time": "2021-07-21T08:09:14.946675Z"
    }
   },
   "outputs": [
    {
     "name": "stdout",
     "output_type": "stream",
     "text": [
      "Before :  a 의 주소는 1529612877488\n",
      "After :  aaa 의 주소는 1529691063600\n"
     ]
    }
   ],
   "source": [
    "def func1(f): #매개변수는 지역변수\n",
    "    print('Before : ', f, '의 주소는',id(f))\n",
    "    f = f*3\n",
    "    print('After : ', f, '의 주소는',id(f))\n",
    "func1(foo)"
   ]
  },
  {
   "cell_type": "code",
   "execution_count": 32,
   "id": "46dfa3b1",
   "metadata": {
    "ExecuteTime": {
     "end_time": "2021-07-21T08:00:09.065390Z",
     "start_time": "2021-07-21T08:00:09.058408Z"
    }
   },
   "outputs": [
    {
     "name": "stdout",
     "output_type": "stream",
     "text": [
      "a\n",
      "1529612877488\n"
     ]
    }
   ],
   "source": [
    "print(foo)\n",
    "print(id(foo))"
   ]
  },
  {
   "cell_type": "markdown",
   "id": "f59480e1",
   "metadata": {},
   "source": [
    "## 1.4 참조에 의한 호출\n",
    "- 함수에 인수로 전달되는 변수가 리스트, 딕셔너리, 셋, ....일 경우"
   ]
  },
  {
   "cell_type": "code",
   "execution_count": 33,
   "id": "a9a82677",
   "metadata": {
    "ExecuteTime": {
     "end_time": "2021-07-21T08:01:36.448063Z",
     "start_time": "2021-07-21T08:01:36.440110Z"
    }
   },
   "outputs": [
    {
     "data": {
      "text/plain": [
       "1529689945088"
      ]
     },
     "execution_count": 33,
     "metadata": {},
     "output_type": "execute_result"
    }
   ],
   "source": [
    "L = [1,2,3,4,5]\n",
    "id(L)"
   ]
  },
  {
   "cell_type": "code",
   "execution_count": 35,
   "id": "be0c3992",
   "metadata": {
    "ExecuteTime": {
     "end_time": "2021-07-21T08:03:51.349728Z",
     "start_time": "2021-07-21T08:03:51.339233Z"
    }
   },
   "outputs": [
    {
     "name": "stdout",
     "output_type": "stream",
     "text": [
      "before :  [1, 2, 3, 4, 5] 의 주소는  1529689945088\n",
      "after :  [1, 2, 3, 4, 5, 6] 의 주소는  1529689945088\n",
      "[1, 2, 3, 4, 5, 6]\n"
     ]
    }
   ],
   "source": [
    "def func2(f): #매개변수는 지역변수\n",
    "    print('before : ', f,'의 주소는 ', id(f))\n",
    "    f.append(6)\n",
    "    print('after : ', f, '의 주소는 ', id(f))\n",
    "func2(L)\n",
    "print(L)"
   ]
  },
  {
   "cell_type": "markdown",
   "id": "64edd498",
   "metadata": {},
   "source": [
    "## 1.5 함수의 이름 변경\n",
    "- python : 함수형 언어, 객체지향언어"
   ]
  },
  {
   "cell_type": "code",
   "execution_count": 37,
   "id": "0ea0da5a",
   "metadata": {
    "ExecuteTime": {
     "end_time": "2021-07-21T08:07:47.189688Z",
     "start_time": "2021-07-21T08:07:47.172734Z"
    }
   },
   "outputs": [],
   "source": [
    "def fibonacci(n):\n",
    "    \"\"\"\n",
    "    매개변수로 들어온 n값 미만의 피보나치 수열을 출력합니다.\n",
    "    ex. 매개변수로 10 : 0. 1. 1. 2. 3. 5. 8. 13. 21. 34,....\n",
    "    ex. 매개변수로 5  : 0.1.1.2.3\n",
    "    \"\"\"\n",
    "    a, b = 0, 1\n",
    "    while a < n:\n",
    "        print(a, end ='. ')\n",
    "        a, b = b, a+b\n",
    "    print()"
   ]
  },
  {
   "cell_type": "code",
   "execution_count": 38,
   "id": "1edad7ad",
   "metadata": {
    "ExecuteTime": {
     "end_time": "2021-07-21T08:08:00.437518Z",
     "start_time": "2021-07-21T08:08:00.418569Z"
    }
   },
   "outputs": [
    {
     "data": {
      "text/plain": [
       "function"
      ]
     },
     "execution_count": 38,
     "metadata": {},
     "output_type": "execute_result"
    }
   ],
   "source": [
    "type(fibonacci)"
   ]
  },
  {
   "cell_type": "code",
   "execution_count": 39,
   "id": "c6d36261",
   "metadata": {
    "ExecuteTime": {
     "end_time": "2021-07-21T08:08:21.322367Z",
     "start_time": "2021-07-21T08:08:21.315389Z"
    }
   },
   "outputs": [],
   "source": [
    "fibo = fibonacci"
   ]
  },
  {
   "cell_type": "code",
   "execution_count": 40,
   "id": "af9e9615",
   "metadata": {
    "ExecuteTime": {
     "end_time": "2021-07-21T08:08:38.079734Z",
     "start_time": "2021-07-21T08:08:38.066737Z"
    }
   },
   "outputs": [
    {
     "name": "stdout",
     "output_type": "stream",
     "text": [
      "0. 1. 1. 2. 3. 5. 8. \n"
     ]
    }
   ],
   "source": [
    "fibo(10)"
   ]
  },
  {
   "cell_type": "code",
   "execution_count": 42,
   "id": "a7671810",
   "metadata": {
    "ExecuteTime": {
     "end_time": "2021-07-21T08:09:36.972240Z",
     "start_time": "2021-07-21T08:09:36.955260Z"
    }
   },
   "outputs": [],
   "source": [
    "p = print"
   ]
  },
  {
   "cell_type": "code",
   "execution_count": 43,
   "id": "380f1454",
   "metadata": {
    "ExecuteTime": {
     "end_time": "2021-07-21T08:09:48.565752Z",
     "start_time": "2021-07-21T08:09:48.559769Z"
    }
   },
   "outputs": [
    {
     "name": "stdout",
     "output_type": "stream",
     "text": [
      "Hello, Python\n"
     ]
    }
   ],
   "source": [
    "p('Hello, Python')"
   ]
  },
  {
   "cell_type": "code",
   "execution_count": 44,
   "id": "1a98f47f",
   "metadata": {
    "ExecuteTime": {
     "end_time": "2021-07-21T08:09:55.531134Z",
     "start_time": "2021-07-21T08:09:55.526115Z"
    }
   },
   "outputs": [],
   "source": [
    "del(p)"
   ]
  },
  {
   "cell_type": "markdown",
   "id": "72c70a42",
   "metadata": {},
   "source": [
    "# 2절. 함수의 실행 결과를 반환하는 return"
   ]
  },
  {
   "cell_type": "code",
   "execution_count": 48,
   "id": "31c25d8f",
   "metadata": {
    "ExecuteTime": {
     "end_time": "2021-07-21T08:17:22.899945Z",
     "start_time": "2021-07-21T08:17:22.885983Z"
    }
   },
   "outputs": [],
   "source": [
    "def fibonacci_print(n):\n",
    "    \"\"\"\n",
    "    매개변수 n값 미만의 피보나치 수열을 출력\n",
    "    \"\"\"\n",
    "    a, b = 0,1\n",
    "    while a < n:\n",
    "        print(a, end=' ')\n",
    "        a, b = b, a+b\n",
    "    print()\n",
    "\n",
    "def fibonacci(n):\n",
    "    \"\"\"\n",
    "    n값 미만의 피보나치 수열(list)를 return\n",
    "    \"\"\"\n",
    "    result = []\n",
    "    a, b = 0, 1\n",
    "    while a < n:\n",
    "        result.append(a)\n",
    "        a, b = b, a+b\n",
    "    return result\n",
    "    "
   ]
  },
  {
   "cell_type": "code",
   "execution_count": 51,
   "id": "e8b40d24",
   "metadata": {
    "ExecuteTime": {
     "end_time": "2021-07-21T08:18:00.919928Z",
     "start_time": "2021-07-21T08:18:00.910949Z"
    }
   },
   "outputs": [
    {
     "name": "stdout",
     "output_type": "stream",
     "text": [
      "0 1 1 2 3 5 8 \n"
     ]
    }
   ],
   "source": [
    "x= fibonacci_print(10)"
   ]
  },
  {
   "cell_type": "code",
   "execution_count": 52,
   "id": "09eb2f99",
   "metadata": {
    "ExecuteTime": {
     "end_time": "2021-07-21T08:18:02.158509Z",
     "start_time": "2021-07-21T08:18:02.148568Z"
    }
   },
   "outputs": [
    {
     "name": "stdout",
     "output_type": "stream",
     "text": [
      "None\n"
     ]
    }
   ],
   "source": [
    "fibonacci(10)\n",
    "print(x)"
   ]
  },
  {
   "cell_type": "code",
   "execution_count": 53,
   "id": "eff9be7a",
   "metadata": {
    "ExecuteTime": {
     "end_time": "2021-07-21T08:18:16.904344Z",
     "start_time": "2021-07-21T08:18:16.894371Z"
    }
   },
   "outputs": [
    {
     "name": "stdout",
     "output_type": "stream",
     "text": [
      "[0, 1, 1, 2, 3, 5, 8]\n"
     ]
    }
   ],
   "source": [
    "x=fibonacci(10)\n",
    "print(x)"
   ]
  },
  {
   "cell_type": "markdown",
   "id": "c6307935",
   "metadata": {},
   "source": [
    " ## 2.1 여러개 값 반환"
   ]
  },
  {
   "cell_type": "code",
   "execution_count": 56,
   "id": "34dc4418",
   "metadata": {
    "ExecuteTime": {
     "end_time": "2021-07-21T08:37:48.480589Z",
     "start_time": "2021-07-21T08:37:48.467040Z"
    }
   },
   "outputs": [],
   "source": [
    "def swap(a,b):\n",
    "    return b,a"
   ]
  },
  {
   "cell_type": "code",
   "execution_count": 57,
   "id": "9e878f7e",
   "metadata": {
    "ExecuteTime": {
     "end_time": "2021-07-21T08:37:50.158078Z",
     "start_time": "2021-07-21T08:37:50.146074Z"
    }
   },
   "outputs": [
    {
     "name": "stdout",
     "output_type": "stream",
     "text": [
      "함수 실행전 5 10\n",
      "함수 실행전 10 5\n"
     ]
    }
   ],
   "source": [
    "x,y = 5, 10\n",
    "print('함수 실행전', x, y)\n",
    "x, y = swap(x, y)\n",
    "print('함수 실행후', x, y)"
   ]
  },
  {
   "cell_type": "code",
   "execution_count": 58,
   "id": "9a4882d9",
   "metadata": {
    "ExecuteTime": {
     "end_time": "2021-07-21T08:39:43.627173Z",
     "start_time": "2021-07-21T08:39:43.614206Z"
    }
   },
   "outputs": [
    {
     "name": "stdout",
     "output_type": "stream",
     "text": [
      "<class 'tuple'>\n",
      "(5, 10)\n"
     ]
    }
   ],
   "source": [
    "a= swap(x,y)\n",
    "print(type(a))\n",
    "print(a)"
   ]
  },
  {
   "cell_type": "markdown",
   "id": "f3b266c0",
   "metadata": {},
   "source": [
    "# 3절. 함수의 매개변수 ★"
   ]
  },
  {
   "cell_type": "markdown",
   "id": "459ee1d2",
   "metadata": {
    "ExecuteTime": {
     "end_time": "2021-07-21T08:49:27.423739Z",
     "start_time": "2021-07-21T08:49:27.415722Z"
    }
   },
   "source": [
    "## 3.1 기본값을 갖는 매개변수"
   ]
  },
  {
   "cell_type": "code",
   "execution_count": 60,
   "id": "1e287f99",
   "metadata": {
    "ExecuteTime": {
     "end_time": "2021-07-21T08:51:05.903675Z",
     "start_time": "2021-07-21T08:51:05.891707Z"
    }
   },
   "outputs": [],
   "source": [
    "def make_url(ip, port = 80):\n",
    "    return \"http://{}:{}\".format(ip, port)"
   ]
  },
  {
   "cell_type": "code",
   "execution_count": 62,
   "id": "3967f6b8",
   "metadata": {
    "ExecuteTime": {
     "end_time": "2021-07-21T08:53:08.619512Z",
     "start_time": "2021-07-21T08:53:08.606542Z"
    }
   },
   "outputs": [
    {
     "name": "stdout",
     "output_type": "stream",
     "text": [
      "http://localhost:9090\n",
      "http://www.naver.com:9090\n",
      "http://localhost:80\n"
     ]
    }
   ],
   "source": [
    "print(make_url('localhost', 9090))\n",
    "print(make_url(port=9090, ip=\"www.naver.com\"))\n",
    "print(make_url(\"localhost\"))"
   ]
  },
  {
   "cell_type": "markdown",
   "id": "bd0e7d82",
   "metadata": {},
   "source": [
    "## 3.2 기본 변수를 갖는 매개변수 "
   ]
  },
  {
   "cell_type": "code",
   "execution_count": 64,
   "id": "e7c510c0",
   "metadata": {
    "ExecuteTime": {
     "end_time": "2021-07-21T08:57:47.213391Z",
     "start_time": "2021-07-21T08:57:47.196438Z"
    }
   },
   "outputs": [],
   "source": [
    "i = 5\n",
    "#  기본 변수가 스칼라변수(문자,숫자,논리)일 때: arg의 기본값은 함수가 정의되는 시점에서 한번만 평가됩니다.\n",
    "def func2(arg = i):\n",
    "    print('arg =', arg)"
   ]
  },
  {
   "cell_type": "code",
   "execution_count": 66,
   "id": "eaa60eaf",
   "metadata": {
    "ExecuteTime": {
     "end_time": "2021-07-21T08:58:47.910098Z",
     "start_time": "2021-07-21T08:58:47.903118Z"
    }
   },
   "outputs": [
    {
     "name": "stdout",
     "output_type": "stream",
     "text": [
      "arg = 5\n"
     ]
    }
   ],
   "source": [
    "i = 6\n",
    "func2()"
   ]
  },
  {
   "cell_type": "code",
   "execution_count": 69,
   "id": "1a818c77",
   "metadata": {
    "ExecuteTime": {
     "end_time": "2021-07-21T09:05:25.924492Z",
     "start_time": "2021-07-21T09:05:25.906506Z"
    }
   },
   "outputs": [
    {
     "name": "stdout",
     "output_type": "stream",
     "text": [
      "[1]\n",
      "[1]\n"
     ]
    }
   ],
   "source": [
    "# 기본변수가 리스트, 셋, 딕셔너리 또는 객체일때\n",
    "list_ = []\n",
    "def func3(a, L = list_):\n",
    "    L.append(a)\n",
    "    return L\n",
    "\n",
    "print(func3(1))\n",
    "print(list_)"
   ]
  },
  {
   "cell_type": "code",
   "execution_count": 70,
   "id": "4b560377",
   "metadata": {
    "ExecuteTime": {
     "end_time": "2021-07-21T09:06:18.647978Z",
     "start_time": "2021-07-21T09:06:18.635502Z"
    }
   },
   "outputs": [
    {
     "name": "stdout",
     "output_type": "stream",
     "text": [
      "[1, 100]\n",
      "[1, 100]\n"
     ]
    }
   ],
   "source": [
    "print(func3(100))\n",
    "print(list_)"
   ]
  },
  {
   "cell_type": "code",
   "execution_count": 71,
   "id": "1f0894d4",
   "metadata": {
    "ExecuteTime": {
     "end_time": "2021-07-21T09:09:24.431613Z",
     "start_time": "2021-07-21T09:09:24.424434Z"
    }
   },
   "outputs": [
    {
     "name": "stdout",
     "output_type": "stream",
     "text": [
      "[1]\n"
     ]
    }
   ],
   "source": [
    "def func4(a, L = []):\n",
    "    L.append(a)\n",
    "    return L\n",
    "\n",
    "result = func4(1)\n",
    "print(result)"
   ]
  },
  {
   "cell_type": "code",
   "execution_count": 72,
   "id": "ce785e9c",
   "metadata": {
    "ExecuteTime": {
     "end_time": "2021-07-21T09:10:11.404708Z",
     "start_time": "2021-07-21T09:10:11.400685Z"
    }
   },
   "outputs": [
    {
     "name": "stdout",
     "output_type": "stream",
     "text": [
      "[1, 2]\n"
     ]
    }
   ],
   "source": [
    "result = func4(2)\n",
    "print(result)"
   ]
  },
  {
   "cell_type": "code",
   "execution_count": null,
   "id": "e4bb0459",
   "metadata": {},
   "outputs": [],
   "source": []
  },
  {
   "cell_type": "code",
   "execution_count": null,
   "id": "5a829f06",
   "metadata": {},
   "outputs": [],
   "source": []
  },
  {
   "cell_type": "code",
   "execution_count": null,
   "id": "737911e9",
   "metadata": {},
   "outputs": [],
   "source": []
  },
  {
   "cell_type": "code",
   "execution_count": null,
   "id": "df4a4946",
   "metadata": {},
   "outputs": [],
   "source": []
  },
  {
   "cell_type": "code",
   "execution_count": null,
   "id": "f93e7df6",
   "metadata": {},
   "outputs": [],
   "source": []
  },
  {
   "cell_type": "code",
   "execution_count": null,
   "id": "f904b925",
   "metadata": {},
   "outputs": [],
   "source": []
  }
 ],
 "metadata": {
  "kernelspec": {
   "display_name": "Python 3",
   "language": "python",
   "name": "python3"
  },
  "language_info": {
   "codemirror_mode": {
    "name": "ipython",
    "version": 3
   },
   "file_extension": ".py",
   "mimetype": "text/x-python",
   "name": "python",
   "nbconvert_exporter": "python",
   "pygments_lexer": "ipython3",
   "version": "3.8.8"
  },
  "toc": {
   "base_numbering": 1,
   "nav_menu": {},
   "number_sections": false,
   "sideBar": true,
   "skip_h1_title": false,
   "title_cell": "Table of Contents",
   "title_sidebar": "Contents",
   "toc_cell": false,
   "toc_position": {
    "height": "calc(100% - 180px)",
    "left": "10px",
    "top": "150px",
    "width": "323.83px"
   },
   "toc_section_display": true,
   "toc_window_display": true
  },
  "varInspector": {
   "cols": {
    "lenName": 16,
    "lenType": 16,
    "lenVar": 40
   },
   "kernels_config": {
    "python": {
     "delete_cmd_postfix": "",
     "delete_cmd_prefix": "del ",
     "library": "var_list.py",
     "varRefreshCmd": "print(var_dic_list())"
    },
    "r": {
     "delete_cmd_postfix": ") ",
     "delete_cmd_prefix": "rm(",
     "library": "var_list.r",
     "varRefreshCmd": "cat(var_dic_list()) "
    }
   },
   "oldHeight": 375.534,
   "position": {
    "height": "40px",
    "left": "1126.36px",
    "right": "20px",
    "top": "120px",
    "width": "250px"
   },
   "types_to_exclude": [
    "module",
    "function",
    "builtin_function_or_method",
    "instance",
    "_Feature"
   ],
   "varInspector_section_display": "none",
   "window_display": false
  }
 },
 "nbformat": 4,
 "nbformat_minor": 5
}
