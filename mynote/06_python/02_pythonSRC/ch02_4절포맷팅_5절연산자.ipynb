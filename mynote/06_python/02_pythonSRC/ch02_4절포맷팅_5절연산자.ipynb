{
 "cells": [
  {
   "cell_type": "markdown",
   "id": "1002b21a",
   "metadata": {},
   "source": [
    "# 4절. 포맷팅\n",
    "- 포맷팅이란, 출력할 문자, 숫자, 날짜 데이터에 형식을 지정하는 것.\n",
    "- 변수와 텍스를 결합해서 보기 좋은 형식의 새로운 텍스트를 만들때 사용"
   ]
  },
  {
   "cell_type": "markdown",
   "id": "5633a742",
   "metadata": {},
   "source": [
    "## 4.1 문자열에 형식 지정"
   ]
  },
  {
   "cell_type": "code",
   "execution_count": 1,
   "id": "57c877af",
   "metadata": {
    "ExecuteTime": {
     "end_time": "2021-07-19T15:41:35.358012Z",
     "start_time": "2021-07-19T15:41:35.342333Z"
    }
   },
   "outputs": [
    {
     "name": "stdout",
     "output_type": "stream",
     "text": [
      "홍길동님의 나이는 30살입니다\n"
     ]
    }
   ],
   "source": [
    "name = \"홍길동\"\n",
    "age  = 30\n",
    "print(name, '님의 나이는 ', age , '살입니다', sep='')\n",
    "# 변수와 텍스트를 번갈아 사용해서 가독성 떨어져서 포맷팅 사용"
   ]
  },
  {
   "cell_type": "code",
   "execution_count": 2,
   "id": "d9213d72",
   "metadata": {
    "ExecuteTime": {
     "end_time": "2021-07-19T15:41:45.923224Z",
     "start_time": "2021-07-19T15:41:45.908270Z"
    }
   },
   "outputs": [
    {
     "data": {
      "text/plain": [
       "'홍길동님의 나이는 30살입니다'"
      ]
     },
     "execution_count": 2,
     "metadata": {},
     "output_type": "execute_result"
    }
   ],
   "source": [
    "# 이전 스타일\n",
    "# %s문자, %d:숫자(10진수정수), %f:실수\n",
    "\"%s님의 나이는 %d살입니다\" % (name, age)"
   ]
  },
  {
   "cell_type": "code",
   "execution_count": 3,
   "id": "c18d42cf",
   "metadata": {
    "ExecuteTime": {
     "end_time": "2021-07-19T15:41:54.763855Z",
     "start_time": "2021-07-19T15:41:54.751886Z"
    }
   },
   "outputs": [
    {
     "data": {
      "text/plain": [
       "'홍길동님의 나이는 30살입니다'"
      ]
     },
     "execution_count": 3,
     "metadata": {},
     "output_type": "execute_result"
    }
   ],
   "source": [
    "# 새로운 스타일\n",
    "\"{}님의 나이는 {}살입니다\".format(name, age)"
   ]
  },
  {
   "cell_type": "code",
   "execution_count": 4,
   "id": "b73362c5",
   "metadata": {
    "ExecuteTime": {
     "end_time": "2021-07-19T15:42:00.361960Z",
     "start_time": "2021-07-19T15:42:00.347001Z"
    }
   },
   "outputs": [
    {
     "data": {
      "text/plain": [
       "'홍길동님의 나이는 30살입니다'"
      ]
     },
     "execution_count": 4,
     "metadata": {},
     "output_type": "execute_result"
    }
   ],
   "source": [
    "\"{1}님의 나이는 {0}살입니다\".format(age, name)"
   ]
  },
  {
   "cell_type": "markdown",
   "id": "c1c32909",
   "metadata": {},
   "source": [
    "## 4.2 format()함수 문법"
   ]
  },
  {
   "cell_type": "code",
   "execution_count": 5,
   "id": "deb5125e",
   "metadata": {
    "ExecuteTime": {
     "end_time": "2021-07-19T15:42:39.125850Z",
     "start_time": "2021-07-19T15:42:39.107872Z"
    }
   },
   "outputs": [],
   "source": [
    "#\"{[인덱스]:[공백대체문자][정렬방법][자릿수][타입]}\".format(변수명,...)"
   ]
  },
  {
   "cell_type": "code",
   "execution_count": 6,
   "id": "1e6f7197",
   "metadata": {
    "ExecuteTime": {
     "end_time": "2021-07-19T15:42:51.411472Z",
     "start_time": "2021-07-19T15:42:51.399528Z"
    }
   },
   "outputs": [],
   "source": [
    "# 인덱스 : format함수안 인수의 순서\n",
    "# 정렬방법 : <기호:왼쪽 정렬, >기호:오른쪽정렬, ^기호:가운데정렬\n",
    "# 자릿수 : 출력할 자릿수 지정. 변수보다 적은 자릿수가 지정되면 자리수 무시\n",
    "# 타입 : d(10진수정수), o(8진수), b(3진수) f(실수) s(문자) x(16진수)"
   ]
  },
  {
   "cell_type": "code",
   "execution_count": 7,
   "id": "5e72fe79",
   "metadata": {
    "ExecuteTime": {
     "end_time": "2021-07-19T15:43:10.136969Z",
     "start_time": "2021-07-19T15:43:02.502206Z"
    }
   },
   "outputs": [
    {
     "name": "stdout",
     "output_type": "stream",
     "text": [
      "이름은 ?홍길동\n",
      "나이는 ?30\n",
      "30살 홍길동님은 30살이 참 좋은 나이라는 걸 알려나\n"
     ]
    }
   ],
   "source": [
    "name = input(\"이름은 ?\")\n",
    "age = int(input(\"나이는 ?\"))\n",
    "print(\"{1}살 {0}님은 {1}살이 참 좋은 나이라는 걸 알려나\".format(name, age))"
   ]
  },
  {
   "cell_type": "code",
   "execution_count": 8,
   "id": "de570e1c",
   "metadata": {
    "ExecuteTime": {
     "end_time": "2021-07-19T15:43:20.694746Z",
     "start_time": "2021-07-19T15:43:20.683776Z"
    }
   },
   "outputs": [
    {
     "name": "stdout",
     "output_type": "stream",
     "text": [
      "출력 : [12345], [     12345], [12345]\n",
      "출력 : [Hello], [Hello     ], [Hello]\n"
     ]
    }
   ],
   "source": [
    "# 숫자의 경우 출력할 변수보다 큰 자릿수를 지정하면 오른쪽 정렬(기본값)\n",
    "# 문자의 경우 출력할 변수보다 큰 자릿수를 지정하면 왼쪽 정렬(기본값)\n",
    "# 변수보다 작은 자리수를 지정하면 자리수 지정 무시되고 다 출력\n",
    "a = 12345\n",
    "s = \"Hello\"\n",
    "print(\"출력 : [{0}], [{0:10}], [{0:3}]\".format(a))\n",
    "print(\"출력 : [{0}], [{0:10}], [{0:3}]\".format(s))"
   ]
  },
  {
   "cell_type": "code",
   "execution_count": 9,
   "id": "b99d0174",
   "metadata": {
    "ExecuteTime": {
     "end_time": "2021-07-19T15:46:17.233594Z",
     "start_time": "2021-07-19T15:46:17.225614Z"
    }
   },
   "outputs": [
    {
     "name": "stdout",
     "output_type": "stream",
     "text": [
      "출력 : [a     ], [    20], [  3   ]\n"
     ]
    }
   ],
   "source": [
    "# 정렬방법 > < ^\n",
    "a, b, c = 10, 20, 3 \n",
    "print(\"출력 : [{:<6x}], [{:>6d}], [{:^6d}]\".format(a, b, c))"
   ]
  },
  {
   "cell_type": "code",
   "execution_count": 10,
   "id": "d7e55dfa",
   "metadata": {
    "ExecuteTime": {
     "end_time": "2021-07-19T15:46:43.139577Z",
     "start_time": "2021-07-19T15:46:43.128607Z"
    }
   },
   "outputs": [
    {
     "name": "stdout",
     "output_type": "stream",
     "text": [
      "출력 : [$$$$$$$$10], [Hello***************], [Hel_______]\n"
     ]
    }
   ],
   "source": [
    "# \"인덱스:공백대체문자 정렬방법 자릿수 타입\".format()\n",
    "a = 10\n",
    "s = \"Hello\"\n",
    "print(\"출력 : [{0:$>10}], [{1:*<20}], [{1:_<10.3}]\".format(a, s))\n",
    "                              # 10.3 전체 10자리확보 변수중 3자리만 출력"
   ]
  },
  {
   "cell_type": "code",
   "execution_count": 11,
   "id": "0563747e",
   "metadata": {
    "ExecuteTime": {
     "end_time": "2021-07-19T15:48:40.076318Z",
     "start_time": "2021-07-19T15:48:40.061358Z"
    }
   },
   "outputs": [
    {
     "name": "stdout",
     "output_type": "stream",
     "text": [
      "$$$$10$$$$ / ***************Hello\n"
     ]
    }
   ],
   "source": [
    "# 공백대체문자를 지정할 때는 반드시 정렬방법을 표현해야 합니다(주의점)\n",
    "print(\"{:$^10} / {:*>20}\".format(a, s))\n",
    "# print(\"{:$10} / {:*20}\".format(a, s)) 에러 남"
   ]
  },
  {
   "cell_type": "code",
   "execution_count": 12,
   "id": "6a7a2e5a",
   "metadata": {
    "ExecuteTime": {
     "end_time": "2021-07-19T15:49:05.921904Z",
     "start_time": "2021-07-19T15:49:05.902954Z"
    }
   },
   "outputs": [
    {
     "name": "stdout",
     "output_type": "stream",
     "text": [
      "출력 ㅣ [      -123], [      +123], [       123]\n",
      "출력 ㅣ [-      123], [       123], [       123]\n",
      "출력 ㅣ [-      123], [+      123], [       123]\n",
      "출력 ㅣ [-      123], [+      123], [+000000123]\n",
      "출력 ㅣ [$$$$$$-123], [+______123], [+★★★★★★123]\n"
     ]
    }
   ],
   "source": [
    "# 자리수 앞에 +를 붙이면 양수의 경우도 부호를 붙여줌\n",
    "# 자리수 앞에 =를 붙이면 부호가 자릿수의 맨앞에 표시됨(음수의 경우만)\n",
    "# 자릿수 앞에 =+를 붙이면 부호가 자릿수의 맨앞에 표시됨(양수, 음수 모두)\n",
    "# 자릿수 앞에 0을 채우면 빈자리에 0을 채움\n",
    "# 공백대체문자는 =앞에\n",
    "# 공백대체문자와 자릿앞의 0을 모두 쓰면 자리수앞의 0은 무시\n",
    "a, b = 123, -123\n",
    "print(\"출력 ㅣ [{:+10}], [{:+10}], [{:10}]\".format(b, a, a))\n",
    "print(\"출력 ㅣ [{:=10}], [{:=10}], [{:10}]\".format(b, a, a))\n",
    "print(\"출력 ㅣ [{:=10}], [{:=+10}], [{:10}]\".format(b, a, a))\n",
    "print(\"출력 ㅣ [{:=10}], [{:=+10}], [{:=+010}]\".format(b, a, a))\n",
    "print(\"출력 ㅣ [{:$>10}], [{:_=+10}], [{:★=+010}]\".format(b, a, a))"
   ]
  },
  {
   "cell_type": "code",
   "execution_count": null,
   "id": "2c0d1335",
   "metadata": {},
   "outputs": [],
   "source": []
  },
  {
   "cell_type": "code",
   "execution_count": null,
   "id": "be0d1af4",
   "metadata": {},
   "outputs": [],
   "source": []
  },
  {
   "cell_type": "code",
   "execution_count": null,
   "id": "d046abda",
   "metadata": {},
   "outputs": [],
   "source": []
  },
  {
   "cell_type": "code",
   "execution_count": null,
   "id": "cc27f86c",
   "metadata": {},
   "outputs": [],
   "source": []
  },
  {
   "cell_type": "code",
   "execution_count": null,
   "id": "05e9a0c7",
   "metadata": {},
   "outputs": [],
   "source": []
  },
  {
   "cell_type": "code",
   "execution_count": null,
   "id": "6fe28670",
   "metadata": {},
   "outputs": [],
   "source": []
  },
  {
   "cell_type": "code",
   "execution_count": null,
   "id": "6ddaccb7",
   "metadata": {},
   "outputs": [],
   "source": []
  },
  {
   "cell_type": "code",
   "execution_count": null,
   "id": "8b558ead",
   "metadata": {},
   "outputs": [],
   "source": []
  }
 ],
 "metadata": {
  "kernelspec": {
   "display_name": "Python 3",
   "language": "python",
   "name": "python3"
  },
  "language_info": {
   "codemirror_mode": {
    "name": "ipython",
    "version": 3
   },
   "file_extension": ".py",
   "mimetype": "text/x-python",
   "name": "python",
   "nbconvert_exporter": "python",
   "pygments_lexer": "ipython3",
   "version": "3.8.8"
  },
  "toc": {
   "base_numbering": 1,
   "nav_menu": {},
   "number_sections": true,
   "sideBar": true,
   "skip_h1_title": false,
   "title_cell": "Table of Contents",
   "title_sidebar": "Contents",
   "toc_cell": false,
   "toc_position": {},
   "toc_section_display": true,
   "toc_window_display": true
  },
  "varInspector": {
   "cols": {
    "lenName": 16,
    "lenType": 16,
    "lenVar": 40
   },
   "kernels_config": {
    "python": {
     "delete_cmd_postfix": "",
     "delete_cmd_prefix": "del ",
     "library": "var_list.py",
     "varRefreshCmd": "print(var_dic_list())"
    },
    "r": {
     "delete_cmd_postfix": ") ",
     "delete_cmd_prefix": "rm(",
     "library": "var_list.r",
     "varRefreshCmd": "cat(var_dic_list()) "
    }
   },
   "types_to_exclude": [
    "module",
    "function",
    "builtin_function_or_method",
    "instance",
    "_Feature"
   ],
   "window_display": true
  }
 },
 "nbformat": 4,
 "nbformat_minor": 5
}
